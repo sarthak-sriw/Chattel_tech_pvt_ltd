{
 "cells": [
  {
   "cell_type": "code",
   "execution_count": 1,
   "metadata": {},
   "outputs": [],
   "source": [
    "import requests\n",
    "from bs4 import BeautifulSoup\n",
    "\n",
    "url=\"https://news.google.com/topics/CAAqJggKIiBDQkFTRWdvSUwyMHZNRGx6TVdZU0FtVnVHZ0pKVGlnQVAB?hl=en-IN&gl=IN&ceid=IN%3Aen\"\n",
    "headers = {\n",
    "    'User-agent': 'Mozilla/5.0'}\n",
    "\n",
    "page = requests.get(url,headers=headers)\n",
    "soup = BeautifulSoup(page.content, 'html.parser')\n",
    "block= soup.findAll(\"div\",{\"class\":\"xrnccd F6Welf R7GTQ keNKEd j7vNaf\"})\n"
   ]
  },
  {
   "cell_type": "code",
   "execution_count": null,
   "metadata": {
    "scrolled": true
   },
   "outputs": [],
   "source": []
  },
  {
   "cell_type": "markdown",
   "metadata": {},
   "source": [
    "# Scrapping the main news"
   ]
  },
  {
   "cell_type": "code",
   "execution_count": 12,
   "metadata": {},
   "outputs": [
    {
     "name": "stderr",
     "output_type": "stream",
     "text": [
      "[nltk_data] Downloading package punkt to /root/nltk_data...\n",
      "[nltk_data]   Package punkt is already up-to-date!\n"
     ]
    }
   ],
   "source": [
    "import nltk\n",
    "nltk.download('punkt')  #sentence tokenizer\n",
    "from newspaper import Article #library for extracting & curating articles\n",
    "import string \n",
    "import requests\n",
    "from bs4 import BeautifulSoup\n",
    "import numpy as np\n",
    "\n",
    "\n",
    "url=\"https://news.google.com/topics/CAAqJggKIiBDQkFTRWdvSUwyMHZNRGx6TVdZU0FtVnVHZ0pKVGlnQVAB?hl=en-IN&gl=IN&ceid=IN%3Aen\"\n",
    "headers = {\n",
    "    'User-agent': 'Mozilla/5.0'}\n",
    "\n",
    "page = requests.get(url,headers=headers)\n",
    "soup = BeautifulSoup(page.content, 'html.parser')\n",
    "block= soup.findAll(\"div\",{\"class\":\"xrnccd F6Welf R7GTQ keNKEd j7vNaf\"})\n",
    "\n",
    "l=[]\n",
    "\n",
    "for i in range(len(block)):\n",
    "    \n",
    "    link = \"https://news.google.com\" + block[i].find(\"h3\",{\"class\":\"ipQwMb ekueJc gEATFF RD0gLb\"}).find('a')['href'][1:]\n",
    "      \n",
    "    article = Article(link, language=\"en\")\n",
    "    article.download() \n",
    "    article.parse() \n",
    "    article.nlp() \n",
    "    \n",
    "    #variable for storing title of article\n",
    "    title = article.title\n",
    "    \n",
    "    #variable for storing preprossed summary ie removing incosistent spaces,punctuations\n",
    "    summary = \" \".join(article.summary.split('\\n')).replace(\"  \",\"\").strip().translate(str.maketrans(\"\",\"\", string.punctuation))\n",
    "    \n",
    "    #variable for storing publish date of article\n",
    "    try:\n",
    "        date = article.publish_date.date().strftime(\"%d-%m-%Y\")\n",
    "    except:\n",
    "        date = np.NaN\n",
    "    \n",
    "    #variable for storing publish time of article\n",
    "    try:\n",
    "        time = article.publish_date.time().strftime(\"%H:%M:%S\")\n",
    "    except:\n",
    "        time = np.NaN\n",
    "    \n",
    "    l.append([title,summary,date,time,link]) "
   ]
  },
  {
   "cell_type": "code",
   "execution_count": 13,
   "metadata": {},
   "outputs": [
    {
     "data": {
      "text/html": [
       "<div>\n",
       "<style scoped>\n",
       "    .dataframe tbody tr th:only-of-type {\n",
       "        vertical-align: middle;\n",
       "    }\n",
       "\n",
       "    .dataframe tbody tr th {\n",
       "        vertical-align: top;\n",
       "    }\n",
       "\n",
       "    .dataframe thead th {\n",
       "        text-align: right;\n",
       "    }\n",
       "</style>\n",
       "<table border=\"1\" class=\"dataframe\">\n",
       "  <thead>\n",
       "    <tr style=\"text-align: right;\">\n",
       "      <th></th>\n",
       "      <th>Title</th>\n",
       "      <th>Summary</th>\n",
       "      <th>Date</th>\n",
       "      <th>Time</th>\n",
       "      <th>Link</th>\n",
       "    </tr>\n",
       "  </thead>\n",
       "  <tbody>\n",
       "    <tr>\n",
       "      <th>0</th>\n",
       "      <td>Trading Halted For 45 Minutes As Sensex, Nifty...</td>\n",
       "      <td>Mondays trading halt was a second within a per...</td>\n",
       "      <td>NaN</td>\n",
       "      <td>NaN</td>\n",
       "      <td>https://news.google.com/articles/CAIiECFpTCDi_...</td>\n",
       "    </tr>\n",
       "    <tr>\n",
       "      <th>1</th>\n",
       "      <td>Rupee falls beyond 76 per USD for first time</td>\n",
       "      <td>The rupee today fell sharply against the US do...</td>\n",
       "      <td>23-03-2020</td>\n",
       "      <td>09:29:58</td>\n",
       "      <td>https://news.google.com/articles/CBMigwFodHRwc...</td>\n",
       "    </tr>\n",
       "    <tr>\n",
       "      <th>2</th>\n",
       "      <td>Global Stocks Crumble as More Nations Shut Bus...</td>\n",
       "      <td>There was little to cheer in coronavirus news ...</td>\n",
       "      <td>23-03-2020</td>\n",
       "      <td>08:25:24</td>\n",
       "      <td>https://news.google.com/articles/CBMieWh0dHBzO...</td>\n",
       "    </tr>\n",
       "    <tr>\n",
       "      <th>3</th>\n",
       "      <td>telecom sector: AGR: Supreme Court verdict to ...</td>\n",
       "      <td>NEW DELHI The Supreme Courts October last verd...</td>\n",
       "      <td>NaN</td>\n",
       "      <td>NaN</td>\n",
       "      <td>https://news.google.com/articles/CBMikQFodHRwc...</td>\n",
       "    </tr>\n",
       "    <tr>\n",
       "      <th>4</th>\n",
       "      <td>Maruti Suzuki, Hero, Tata, Bajaj Announces Pla...</td>\n",
       "      <td>“The company will shut production and office o...</td>\n",
       "      <td>22-03-2020</td>\n",
       "      <td>14:30:11</td>\n",
       "      <td>https://news.google.com/articles/CBMiXWh0dHBzO...</td>\n",
       "    </tr>\n",
       "  </tbody>\n",
       "</table>\n",
       "</div>"
      ],
      "text/plain": [
       "                                               Title  \\\n",
       "0  Trading Halted For 45 Minutes As Sensex, Nifty...   \n",
       "1       Rupee falls beyond 76 per USD for first time   \n",
       "2  Global Stocks Crumble as More Nations Shut Bus...   \n",
       "3  telecom sector: AGR: Supreme Court verdict to ...   \n",
       "4  Maruti Suzuki, Hero, Tata, Bajaj Announces Pla...   \n",
       "\n",
       "                                             Summary        Date      Time  \\\n",
       "0  Mondays trading halt was a second within a per...         NaN       NaN   \n",
       "1  The rupee today fell sharply against the US do...  23-03-2020  09:29:58   \n",
       "2  There was little to cheer in coronavirus news ...  23-03-2020  08:25:24   \n",
       "3  NEW DELHI The Supreme Courts October last verd...         NaN       NaN   \n",
       "4  “The company will shut production and office o...  22-03-2020  14:30:11   \n",
       "\n",
       "                                                Link  \n",
       "0  https://news.google.com/articles/CAIiECFpTCDi_...  \n",
       "1  https://news.google.com/articles/CBMigwFodHRwc...  \n",
       "2  https://news.google.com/articles/CBMieWh0dHBzO...  \n",
       "3  https://news.google.com/articles/CBMikQFodHRwc...  \n",
       "4  https://news.google.com/articles/CBMiXWh0dHBzO...  "
      ]
     },
     "execution_count": 13,
     "metadata": {},
     "output_type": "execute_result"
    }
   ],
   "source": [
    "import pandas as pd\n",
    "\n",
    "df = pd.DataFrame(l,columns=['Title','Summary','Date','Time','Link'])\n",
    "df.head()"
   ]
  },
  {
   "cell_type": "code",
   "execution_count": 15,
   "metadata": {},
   "outputs": [],
   "source": [
    "df.to_csv('head_news.csv')"
   ]
  },
  {
   "cell_type": "code",
   "execution_count": null,
   "metadata": {},
   "outputs": [],
   "source": []
  },
  {
   "cell_type": "markdown",
   "metadata": {},
   "source": [
    "# Scrapping the sub news"
   ]
  },
  {
   "cell_type": "code",
   "execution_count": 35,
   "metadata": {},
   "outputs": [],
   "source": [
    "import nltk\n",
    "import numpy as np\n",
    "nltk.download('punkt')\n",
    "from newspaper import Article \n",
    "import string\n",
    "import requests\n",
    "from bs4 import BeautifulSoup\n",
    "import numpy as np\n",
    "\n",
    "sub =[]\n",
    "\n",
    "url=\"https://news.google.com/topics/CAAqJggKIiBDQkFTRWdvSUwyMHZNRGx6TVdZU0FtVnVHZ0pKVGlnQVAB?hl=en-IN&gl=IN&ceid=IN%3Aen\"\n",
    "headers = {\n",
    "    'User-agent': 'Mozilla/5.0'}\n",
    "\n",
    "page = requests.get(url,headers=headers)\n",
    "soup = BeautifulSoup(page.content, 'html.parser')\n",
    "\n",
    "\n",
    "sub_news_links = soup.findAll('h4',{\"class\":\"ipQwMb ekueJc gEATFF RD0gLb\"})\n",
    "                                                \n",
    "\n",
    "for i in sub_news_links:\n",
    "    link = \"https://news.google.com\" + i.find('a')['href'][1:]\n",
    "    \n",
    "    article = Article(link, language=\"en\")\n",
    "    try:\n",
    "        article.download() \n",
    "        article.parse() \n",
    "        article.nlp()\n",
    "    except:\n",
    "        continue\n",
    "     \n",
    "    #variable for storing title of article\n",
    "    title = article.title\n",
    "    \n",
    "    ##variable for storing summary of article\n",
    "    summary = \" \".join(article.summary.split('\\n')).replace(\"  \",\"\").strip().translate(str.maketrans(\"\",\"\", string.punctuation))\n",
    "    \n",
    "    #variable for storing publish date of article\n",
    "    try:\n",
    "        date = article.publish_date.date().strftime(\"%d-%m-%Y\")\n",
    "    except:\n",
    "        date = np.NaN\n",
    "        \n",
    "    #variable for storing publish time of article\n",
    "    try:\n",
    "        time = article.publish_date.time().strftime(\"%H:%M:%S\")\n",
    "    except:\n",
    "        time = np.NaN\n",
    "\n",
    "    sub.append([title,summary,date,time,link])"
   ]
  },
  {
   "cell_type": "code",
   "execution_count": 36,
   "metadata": {},
   "outputs": [
    {
     "data": {
      "text/html": [
       "<div>\n",
       "<style scoped>\n",
       "    .dataframe tbody tr th:only-of-type {\n",
       "        vertical-align: middle;\n",
       "    }\n",
       "\n",
       "    .dataframe tbody tr th {\n",
       "        vertical-align: top;\n",
       "    }\n",
       "\n",
       "    .dataframe thead th {\n",
       "        text-align: right;\n",
       "    }\n",
       "</style>\n",
       "<table border=\"1\" class=\"dataframe\">\n",
       "  <thead>\n",
       "    <tr style=\"text-align: right;\">\n",
       "      <th></th>\n",
       "      <th>Title</th>\n",
       "      <th>Summary</th>\n",
       "      <th>Date</th>\n",
       "      <th>Time</th>\n",
       "      <th>Link</th>\n",
       "    </tr>\n",
       "  </thead>\n",
       "  <tbody>\n",
       "    <tr>\n",
       "      <th>0</th>\n",
       "      <td>Future Lifestyle, IndusInd, India Cements amon...</td>\n",
       "      <td>The stock fell 3854 per cent for the week to R...</td>\n",
       "      <td>22-03-2020</td>\n",
       "      <td>11:20:00</td>\n",
       "      <td>https://news.google.com/articles/CAIiENZyXy6b8...</td>\n",
       "    </tr>\n",
       "    <tr>\n",
       "      <th>1</th>\n",
       "      <td>10 things you need to know before the opening ...</td>\n",
       "      <td>Asia Markets in Asia Pacific saw significant d...</td>\n",
       "      <td>NaN</td>\n",
       "      <td>NaN</td>\n",
       "      <td>https://news.google.com/articles/CBMicWh0dHBzO...</td>\n",
       "    </tr>\n",
       "    <tr>\n",
       "      <th>2</th>\n",
       "      <td>Trading Halted For 45 Minutes As Sensex, Nifty...</td>\n",
       "      <td>Mondays trading halt was a second within a per...</td>\n",
       "      <td>NaN</td>\n",
       "      <td>NaN</td>\n",
       "      <td>https://news.google.com/articles/CAIiECFpTCDi_...</td>\n",
       "    </tr>\n",
       "    <tr>\n",
       "      <th>3</th>\n",
       "      <td>COVID-19 Fallout: Sensex Nosedives Over 2,500 ...</td>\n",
       "      <td>After sinking over 2718 points the BSE baromet...</td>\n",
       "      <td>NaN</td>\n",
       "      <td>NaN</td>\n",
       "      <td>https://news.google.com/articles/CCAiC3d0MDF2S...</td>\n",
       "    </tr>\n",
       "    <tr>\n",
       "      <th>4</th>\n",
       "      <td>Sebi, exchanges clarify markets to function no...</td>\n",
       "      <td>MUMBAI  The Securities and Exchange Board of I...</td>\n",
       "      <td>22-03-2020</td>\n",
       "      <td>20:38:24</td>\n",
       "      <td>https://news.google.com/articles/CAIiEBE6wCVby...</td>\n",
       "    </tr>\n",
       "  </tbody>\n",
       "</table>\n",
       "</div>"
      ],
      "text/plain": [
       "                                               Title  \\\n",
       "0  Future Lifestyle, IndusInd, India Cements amon...   \n",
       "1  10 things you need to know before the opening ...   \n",
       "2  Trading Halted For 45 Minutes As Sensex, Nifty...   \n",
       "3  COVID-19 Fallout: Sensex Nosedives Over 2,500 ...   \n",
       "4  Sebi, exchanges clarify markets to function no...   \n",
       "\n",
       "                                             Summary        Date      Time  \\\n",
       "0  The stock fell 3854 per cent for the week to R...  22-03-2020  11:20:00   \n",
       "1  Asia Markets in Asia Pacific saw significant d...         NaN       NaN   \n",
       "2  Mondays trading halt was a second within a per...         NaN       NaN   \n",
       "3  After sinking over 2718 points the BSE baromet...         NaN       NaN   \n",
       "4  MUMBAI  The Securities and Exchange Board of I...  22-03-2020  20:38:24   \n",
       "\n",
       "                                                Link  \n",
       "0  https://news.google.com/articles/CAIiENZyXy6b8...  \n",
       "1  https://news.google.com/articles/CBMicWh0dHBzO...  \n",
       "2  https://news.google.com/articles/CAIiECFpTCDi_...  \n",
       "3  https://news.google.com/articles/CCAiC3d0MDF2S...  \n",
       "4  https://news.google.com/articles/CAIiEBE6wCVby...  "
      ]
     },
     "execution_count": 36,
     "metadata": {},
     "output_type": "execute_result"
    }
   ],
   "source": [
    "import pandas as pd\n",
    "\n",
    "df1 = pd.DataFrame(sub,columns=['Title','Summary','Date','Time','Link'])\n",
    "df1.head()"
   ]
  },
  {
   "cell_type": "code",
   "execution_count": 37,
   "metadata": {},
   "outputs": [
    {
     "data": {
      "text/plain": [
       "(188, 5)"
      ]
     },
     "execution_count": 37,
     "metadata": {},
     "output_type": "execute_result"
    }
   ],
   "source": [
    "df1.shape"
   ]
  },
  {
   "cell_type": "code",
   "execution_count": 38,
   "metadata": {},
   "outputs": [],
   "source": [
    "df1.to_csv('sub_news.csv')"
   ]
  },
  {
   "cell_type": "code",
   "execution_count": null,
   "metadata": {},
   "outputs": [],
   "source": []
  },
  {
   "cell_type": "markdown",
   "metadata": {},
   "source": [
    "# function to search exact words like surge, acquisitions, and IPO and printing the sentences if search is matched"
   ]
  },
  {
   "cell_type": "code",
   "execution_count": 3,
   "metadata": {},
   "outputs": [
    {
     "name": "stdout",
     "output_type": "stream",
     "text": [
      "Title :  Stocks rally in Asia; US equity futures drop\n",
      "Lines : \n",
      "Elsewhere, gold was steady after a recent surge\n",
      "\n",
      "Title :  Dow Has Biggest Rally Since 1933, Surging 11.4% On Stimulus Hopes\n",
      "Lines : \n",
      "The Dow Jones Industrial Average surged 11\n",
      "\n",
      "Title :  Grofers, other online grocery stores in Hyderabad struggle to deliver\n",
      "Lines : \n",
      "Also Read Nationwide lockdown: Supermarkets in Hyderabad see sales surgeOur @grofers warehouse in Faridabad was closed by local law enforcement today\n",
      "Online grocery stores in Hyderabad witness sales surgeMeanwhile, Grofers temporarily stopped taking any new order\n",
      "\n",
      "Title :  Indian rupee to average at 77 per US dollar in 2020, 80 in 2021: Fitch Solutions\n",
      "Lines : \n",
      " Adverse weather during the growing season can easily lead to a surge in headline inflation due to poor crop yields even despite weak core inflation\n",
      "\n",
      "Title :  HUL zooms 10% after announcing acquisition of Vwash from Glenmark\n",
      "Lines : \n",
      "Shares of (HUL) surged 10 per cent to Rs 2,059\n",
      "\n"
     ]
    }
   ],
   "source": [
    "import nltk\n",
    "from newspaper import Article \n",
    "  \n",
    "    \n",
    "def search_multiple_words(lines,search_words):\n",
    "    state=False\n",
    "    kl=[]\n",
    "    for line in lines:\n",
    "        if any(word in line for word in search_words):\n",
    "            kl.append(line)\n",
    "            state=True\n",
    "            \n",
    "    if state==True:\n",
    "        print(\"Title : \",article.title)\n",
    "        print(\"Lines : \")\n",
    "        for i in kl:\n",
    "            print(i)\n",
    "        print()\n",
    "                \n",
    "    \n",
    "search_words = ['surge','acquisitions','IPO']\n",
    "\n",
    "for i in range(len(block)):\n",
    "    \n",
    "    url = \"https://news.google.com\" + block[i].find(\"h3\",{\"class\":\"ipQwMb ekueJc gEATFF RD0gLb\"}).find('a')['href'][1:]\n",
    "    \n",
    "    article = Article(url, language=\"en\")\n",
    "    try:\n",
    "        article.download() \n",
    "        article.parse() \n",
    "        article.nlp()\n",
    "    except:\n",
    "        continue\n",
    "    \n",
    "    lines= \"\".join(article.text.strip().split('\\n')).split('.')\n",
    "    search_multiple_words(lines,search_words)\n",
    "    \n"
   ]
  },
  {
   "cell_type": "code",
   "execution_count": null,
   "metadata": {},
   "outputs": [],
   "source": []
  },
  {
   "cell_type": "code",
   "execution_count": null,
   "metadata": {},
   "outputs": [],
   "source": []
  },
  {
   "cell_type": "code",
   "execution_count": null,
   "metadata": {},
   "outputs": [],
   "source": []
  },
  {
   "cell_type": "code",
   "execution_count": null,
   "metadata": {},
   "outputs": [],
   "source": []
  },
  {
   "cell_type": "code",
   "execution_count": null,
   "metadata": {},
   "outputs": [],
   "source": []
  }
 ],
 "metadata": {
  "kernelspec": {
   "display_name": "Python 3",
   "language": "python",
   "name": "python3"
  },
  "language_info": {
   "codemirror_mode": {
    "name": "ipython",
    "version": 3
   },
   "file_extension": ".py",
   "mimetype": "text/x-python",
   "name": "python",
   "nbconvert_exporter": "python",
   "pygments_lexer": "ipython3",
   "version": "3.7.6"
  }
 },
 "nbformat": 4,
 "nbformat_minor": 4
}
