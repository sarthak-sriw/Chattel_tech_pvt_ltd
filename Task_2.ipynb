{
 "cells": [
  {
   "cell_type": "code",
   "execution_count": 59,
   "metadata": {},
   "outputs": [],
   "source": [
    "import requests\n",
    "from bs4 import BeautifulSoup\n",
    "\n",
    "url=\"https://www.moneycontrol.com/stocks/marketstats/indexcomp.php?optex=NSE&opttopic=indexcomp&index=9\"\n",
    "headers = {\n",
    "    'User-agent': 'Mozilla/5.0'}\n",
    "\n",
    "page = requests.get(url,headers=headers)\n",
    "soup = BeautifulSoup(page.content, 'html.parser')\n",
    "block= soup.find(\"table\",{\"class\":\"tbldata14 bdrtpg\"})\n",
    "                              "
   ]
  },
  {
   "cell_type": "markdown",
   "metadata": {},
   "source": [
    "### Scraping the table"
   ]
  },
  {
   "cell_type": "code",
   "execution_count": 60,
   "metadata": {
    "scrolled": true
   },
   "outputs": [
    {
     "data": {
      "text/html": [
       "<div>\n",
       "<style scoped>\n",
       "    .dataframe tbody tr th:only-of-type {\n",
       "        vertical-align: middle;\n",
       "    }\n",
       "\n",
       "    .dataframe tbody tr th {\n",
       "        vertical-align: top;\n",
       "    }\n",
       "\n",
       "    .dataframe thead th {\n",
       "        text-align: right;\n",
       "    }\n",
       "</style>\n",
       "<table border=\"1\" class=\"dataframe\">\n",
       "  <thead>\n",
       "    <tr style=\"text-align: right;\">\n",
       "      <th></th>\n",
       "      <th>company</th>\n",
       "      <th>industry</th>\n",
       "      <th>last_price</th>\n",
       "      <th>change</th>\n",
       "      <th>chg</th>\n",
       "      <th>mkt_cap</th>\n",
       "    </tr>\n",
       "  </thead>\n",
       "  <tbody>\n",
       "    <tr>\n",
       "      <th>0</th>\n",
       "      <td>Adani Ports</td>\n",
       "      <td>Transport Infrastructure</td>\n",
       "      <td>207.80</td>\n",
       "      <td>-48.60</td>\n",
       "      <td>-18.95</td>\n",
       "      <td>42,219.80</td>\n",
       "    </tr>\n",
       "    <tr>\n",
       "      <th>1</th>\n",
       "      <td>Asian Paints</td>\n",
       "      <td>Paints</td>\n",
       "      <td>1,498.45</td>\n",
       "      <td>-244.50</td>\n",
       "      <td>-14.03</td>\n",
       "      <td>143,730.99</td>\n",
       "    </tr>\n",
       "    <tr>\n",
       "      <th>2</th>\n",
       "      <td>Axis Bank</td>\n",
       "      <td>Bank - Private</td>\n",
       "      <td>308.65</td>\n",
       "      <td>-119.50</td>\n",
       "      <td>-27.91</td>\n",
       "      <td>87,083.79</td>\n",
       "    </tr>\n",
       "    <tr>\n",
       "      <th>3</th>\n",
       "      <td>Bajaj Auto</td>\n",
       "      <td>Automobile - 2 &amp; 3 Wheelers</td>\n",
       "      <td>1,935.55</td>\n",
       "      <td>-306.75</td>\n",
       "      <td>-13.68</td>\n",
       "      <td>56,008.43</td>\n",
       "    </tr>\n",
       "    <tr>\n",
       "      <th>4</th>\n",
       "      <td>Bajaj Finance</td>\n",
       "      <td>Finance - NBFC</td>\n",
       "      <td>2,266.15</td>\n",
       "      <td>-685.75</td>\n",
       "      <td>-23.23</td>\n",
       "      <td>136,351.77</td>\n",
       "    </tr>\n",
       "    <tr>\n",
       "      <th>5</th>\n",
       "      <td>Bajaj Finserv</td>\n",
       "      <td>Finance - Investment</td>\n",
       "      <td>4,621.05</td>\n",
       "      <td>-1,612.00</td>\n",
       "      <td>-25.86</td>\n",
       "      <td>73,538.14</td>\n",
       "    </tr>\n",
       "    <tr>\n",
       "      <th>6</th>\n",
       "      <td>Bharti Airtel</td>\n",
       "      <td>Telecommunication - Service Provider</td>\n",
       "      <td>407.35</td>\n",
       "      <td>-55.30</td>\n",
       "      <td>-11.95</td>\n",
       "      <td>222,232.13</td>\n",
       "    </tr>\n",
       "    <tr>\n",
       "      <th>7</th>\n",
       "      <td>Bharti Infratel</td>\n",
       "      <td>Telecommunication - Equipment</td>\n",
       "      <td>143.40</td>\n",
       "      <td>-4.75</td>\n",
       "      <td>-3.21</td>\n",
       "      <td>26,523.38</td>\n",
       "    </tr>\n",
       "    <tr>\n",
       "      <th>8</th>\n",
       "      <td>BPCL</td>\n",
       "      <td>Refineries</td>\n",
       "      <td>269.35</td>\n",
       "      <td>-48.50</td>\n",
       "      <td>-15.26</td>\n",
       "      <td>58,428.82</td>\n",
       "    </tr>\n",
       "    <tr>\n",
       "      <th>9</th>\n",
       "      <td>Britannia</td>\n",
       "      <td>Consumer Food</td>\n",
       "      <td>2,137.85</td>\n",
       "      <td>-329.95</td>\n",
       "      <td>-13.37</td>\n",
       "      <td>51,408.51</td>\n",
       "    </tr>\n",
       "    <tr>\n",
       "      <th>10</th>\n",
       "      <td>Cipla</td>\n",
       "      <td>Pharmaceuticals &amp; Drugs</td>\n",
       "      <td>375.25</td>\n",
       "      <td>-17.55</td>\n",
       "      <td>-4.47</td>\n",
       "      <td>30,253.98</td>\n",
       "    </tr>\n",
       "    <tr>\n",
       "      <th>11</th>\n",
       "      <td>Coal India</td>\n",
       "      <td>Coal</td>\n",
       "      <td>127.85</td>\n",
       "      <td>-4.95</td>\n",
       "      <td>-3.73</td>\n",
       "      <td>78,790.48</td>\n",
       "    </tr>\n",
       "    <tr>\n",
       "      <th>12</th>\n",
       "      <td>Dr Reddys Labs</td>\n",
       "      <td>Pharmaceuticals &amp; Drugs</td>\n",
       "      <td>2,768.40</td>\n",
       "      <td>-128.85</td>\n",
       "      <td>-4.45</td>\n",
       "      <td>46,003.08</td>\n",
       "    </tr>\n",
       "    <tr>\n",
       "      <th>13</th>\n",
       "      <td>Eicher Motors</td>\n",
       "      <td>Automobile - LCVS/ HVCS</td>\n",
       "      <td>13,705.90</td>\n",
       "      <td>-1,972.55</td>\n",
       "      <td>-12.58</td>\n",
       "      <td>37,424.61</td>\n",
       "    </tr>\n",
       "    <tr>\n",
       "      <th>14</th>\n",
       "      <td>GAIL</td>\n",
       "      <td>Gas Distribution</td>\n",
       "      <td>78.00</td>\n",
       "      <td>-2.80</td>\n",
       "      <td>-3.47</td>\n",
       "      <td>35,479.66</td>\n",
       "    </tr>\n",
       "    <tr>\n",
       "      <th>15</th>\n",
       "      <td>Grasim</td>\n",
       "      <td>Diversified</td>\n",
       "      <td>433.25</td>\n",
       "      <td>-96.15</td>\n",
       "      <td>-18.16</td>\n",
       "      <td>28,499.14</td>\n",
       "    </tr>\n",
       "    <tr>\n",
       "      <th>16</th>\n",
       "      <td>HCL Tech</td>\n",
       "      <td>IT Services &amp; Consulting</td>\n",
       "      <td>417.15</td>\n",
       "      <td>-27.75</td>\n",
       "      <td>-6.24</td>\n",
       "      <td>113,200.54</td>\n",
       "    </tr>\n",
       "    <tr>\n",
       "      <th>17</th>\n",
       "      <td>HDFC</td>\n",
       "      <td>Finance - Housing</td>\n",
       "      <td>1,520.70</td>\n",
       "      <td>-233.25</td>\n",
       "      <td>-13.30</td>\n",
       "      <td>263,381.77</td>\n",
       "    </tr>\n",
       "    <tr>\n",
       "      <th>18</th>\n",
       "      <td>HDFC Bank</td>\n",
       "      <td>Bank - Private</td>\n",
       "      <td>771.55</td>\n",
       "      <td>-111.30</td>\n",
       "      <td>-12.61</td>\n",
       "      <td>423,062.97</td>\n",
       "    </tr>\n",
       "    <tr>\n",
       "      <th>19</th>\n",
       "      <td>Hero Motocorp</td>\n",
       "      <td>Automobile - 2 &amp; 3 Wheelers</td>\n",
       "      <td>1,616.00</td>\n",
       "      <td>-199.70</td>\n",
       "      <td>-11.00</td>\n",
       "      <td>32,277.88</td>\n",
       "    </tr>\n",
       "    <tr>\n",
       "      <th>20</th>\n",
       "      <td>Hindalco</td>\n",
       "      <td>Iron &amp; Steel</td>\n",
       "      <td>87.90</td>\n",
       "      <td>-17.60</td>\n",
       "      <td>-16.68</td>\n",
       "      <td>19,744.30</td>\n",
       "    </tr>\n",
       "    <tr>\n",
       "      <th>21</th>\n",
       "      <td>HUL</td>\n",
       "      <td>Household &amp; Personal Products</td>\n",
       "      <td>1,869.70</td>\n",
       "      <td>-182.00</td>\n",
       "      <td>-8.87</td>\n",
       "      <td>404,756.59</td>\n",
       "    </tr>\n",
       "    <tr>\n",
       "      <th>22</th>\n",
       "      <td>ICICI Bank</td>\n",
       "      <td>Bank - Private</td>\n",
       "      <td>284.00</td>\n",
       "      <td>-61.70</td>\n",
       "      <td>-17.85</td>\n",
       "      <td>183,818.69</td>\n",
       "    </tr>\n",
       "    <tr>\n",
       "      <th>23</th>\n",
       "      <td>IndusInd Bank</td>\n",
       "      <td>Bank - Private</td>\n",
       "      <td>336.45</td>\n",
       "      <td>-103.90</td>\n",
       "      <td>-23.59</td>\n",
       "      <td>23,334.01</td>\n",
       "    </tr>\n",
       "    <tr>\n",
       "      <th>24</th>\n",
       "      <td>Infosys</td>\n",
       "      <td>IT Services &amp; Consulting</td>\n",
       "      <td>526.45</td>\n",
       "      <td>-58.75</td>\n",
       "      <td>-10.04</td>\n",
       "      <td>224,204.38</td>\n",
       "    </tr>\n",
       "    <tr>\n",
       "      <th>25</th>\n",
       "      <td>IOC</td>\n",
       "      <td>Refineries</td>\n",
       "      <td>80.75</td>\n",
       "      <td>-9.85</td>\n",
       "      <td>-10.87</td>\n",
       "      <td>76,019.33</td>\n",
       "    </tr>\n",
       "    <tr>\n",
       "      <th>26</th>\n",
       "      <td>ITC</td>\n",
       "      <td>Cigarettes/Tobacco</td>\n",
       "      <td>154.30</td>\n",
       "      <td>-21.20</td>\n",
       "      <td>-12.08</td>\n",
       "      <td>189,669.13</td>\n",
       "    </tr>\n",
       "    <tr>\n",
       "      <th>27</th>\n",
       "      <td>JSW Steel</td>\n",
       "      <td>Iron &amp; Steel</td>\n",
       "      <td>144.40</td>\n",
       "      <td>-31.35</td>\n",
       "      <td>-17.84</td>\n",
       "      <td>34,904.66</td>\n",
       "    </tr>\n",
       "    <tr>\n",
       "      <th>28</th>\n",
       "      <td>Kotak Mahindra</td>\n",
       "      <td>Bank - Private</td>\n",
       "      <td>1,098.25</td>\n",
       "      <td>-164.10</td>\n",
       "      <td>-13.00</td>\n",
       "      <td>210,036.63</td>\n",
       "    </tr>\n",
       "    <tr>\n",
       "      <th>29</th>\n",
       "      <td>Larsen</td>\n",
       "      <td>Engineering &amp; Construction</td>\n",
       "      <td>724.05</td>\n",
       "      <td>-140.65</td>\n",
       "      <td>-16.27</td>\n",
       "      <td>101,648.80</td>\n",
       "    </tr>\n",
       "    <tr>\n",
       "      <th>30</th>\n",
       "      <td>M&amp;M</td>\n",
       "      <td>Automobile - Auto &amp; Truck Manufacturers</td>\n",
       "      <td>293.40</td>\n",
       "      <td>-29.20</td>\n",
       "      <td>-9.05</td>\n",
       "      <td>36,475.27</td>\n",
       "    </tr>\n",
       "    <tr>\n",
       "      <th>31</th>\n",
       "      <td>Maruti Suzuki</td>\n",
       "      <td>Automobile - Passenger Cars</td>\n",
       "      <td>4,220.35</td>\n",
       "      <td>-858.85</td>\n",
       "      <td>-16.91</td>\n",
       "      <td>127,488.36</td>\n",
       "    </tr>\n",
       "    <tr>\n",
       "      <th>32</th>\n",
       "      <td>Nestle</td>\n",
       "      <td>Consumer Food</td>\n",
       "      <td>12,944.65</td>\n",
       "      <td>-1,200.85</td>\n",
       "      <td>-8.49</td>\n",
       "      <td>124,806.77</td>\n",
       "    </tr>\n",
       "    <tr>\n",
       "      <th>33</th>\n",
       "      <td>NTPC</td>\n",
       "      <td>Power Generation/Distribution</td>\n",
       "      <td>76.40</td>\n",
       "      <td>-4.85</td>\n",
       "      <td>-5.97</td>\n",
       "      <td>75,594.42</td>\n",
       "    </tr>\n",
       "    <tr>\n",
       "      <th>34</th>\n",
       "      <td>ONGC</td>\n",
       "      <td>Oil Exploration and Production</td>\n",
       "      <td>60.40</td>\n",
       "      <td>-11.95</td>\n",
       "      <td>-16.52</td>\n",
       "      <td>75,984.89</td>\n",
       "    </tr>\n",
       "    <tr>\n",
       "      <th>35</th>\n",
       "      <td>Power Grid Corp</td>\n",
       "      <td>Power Generation/Distribution</td>\n",
       "      <td>153.00</td>\n",
       "      <td>-4.25</td>\n",
       "      <td>-2.70</td>\n",
       "      <td>80,043.32</td>\n",
       "    </tr>\n",
       "    <tr>\n",
       "      <th>36</th>\n",
       "      <td>Reliance</td>\n",
       "      <td>Oil Exploration and Production</td>\n",
       "      <td>884.05</td>\n",
       "      <td>-133.90</td>\n",
       "      <td>-13.15</td>\n",
       "      <td>560,422.94</td>\n",
       "    </tr>\n",
       "    <tr>\n",
       "      <th>37</th>\n",
       "      <td>SBI</td>\n",
       "      <td>Bank - Public</td>\n",
       "      <td>181.60</td>\n",
       "      <td>-28.25</td>\n",
       "      <td>-13.46</td>\n",
       "      <td>162,070.95</td>\n",
       "    </tr>\n",
       "    <tr>\n",
       "      <th>38</th>\n",
       "      <td>Sun Pharma</td>\n",
       "      <td>Pharmaceuticals &amp; Drugs</td>\n",
       "      <td>324.50</td>\n",
       "      <td>-40.75</td>\n",
       "      <td>-11.16</td>\n",
       "      <td>77,858.42</td>\n",
       "    </tr>\n",
       "    <tr>\n",
       "      <th>39</th>\n",
       "      <td>Tata Motors</td>\n",
       "      <td>Automobile - LCVS/ HVCS</td>\n",
       "      <td>66.20</td>\n",
       "      <td>-11.10</td>\n",
       "      <td>-14.36</td>\n",
       "      <td>20,449.00</td>\n",
       "    </tr>\n",
       "    <tr>\n",
       "      <th>40</th>\n",
       "      <td>Tata Steel</td>\n",
       "      <td>Iron &amp; Steel</td>\n",
       "      <td>271.15</td>\n",
       "      <td>-26.60</td>\n",
       "      <td>-8.93</td>\n",
       "      <td>30,544.77</td>\n",
       "    </tr>\n",
       "    <tr>\n",
       "      <th>41</th>\n",
       "      <td>TCS</td>\n",
       "      <td>IT Services &amp; Consulting</td>\n",
       "      <td>1,669.70</td>\n",
       "      <td>-127.75</td>\n",
       "      <td>-7.11</td>\n",
       "      <td>626,535.67</td>\n",
       "    </tr>\n",
       "    <tr>\n",
       "      <th>42</th>\n",
       "      <td>Tech Mahindra</td>\n",
       "      <td>IT Services &amp; Consulting</td>\n",
       "      <td>487.20</td>\n",
       "      <td>-89.15</td>\n",
       "      <td>-15.47</td>\n",
       "      <td>48,053.93</td>\n",
       "    </tr>\n",
       "    <tr>\n",
       "      <th>43</th>\n",
       "      <td>Titan Company</td>\n",
       "      <td>Diamond  &amp;  Jewellery</td>\n",
       "      <td>800.95</td>\n",
       "      <td>-103.95</td>\n",
       "      <td>-11.49</td>\n",
       "      <td>71,107.23</td>\n",
       "    </tr>\n",
       "    <tr>\n",
       "      <th>44</th>\n",
       "      <td>UltraTechCement</td>\n",
       "      <td>Cement</td>\n",
       "      <td>3,054.85</td>\n",
       "      <td>-519.00</td>\n",
       "      <td>-14.52</td>\n",
       "      <td>88,170.14</td>\n",
       "    </tr>\n",
       "    <tr>\n",
       "      <th>45</th>\n",
       "      <td>UPL</td>\n",
       "      <td>Pesticides &amp; Agrochemicals</td>\n",
       "      <td>254.60</td>\n",
       "      <td>-45.55</td>\n",
       "      <td>-15.18</td>\n",
       "      <td>19,452.60</td>\n",
       "    </tr>\n",
       "    <tr>\n",
       "      <th>46</th>\n",
       "      <td>Vedanta</td>\n",
       "      <td>Metals - Non Ferrous</td>\n",
       "      <td>62.65</td>\n",
       "      <td>-12.80</td>\n",
       "      <td>-16.96</td>\n",
       "      <td>23,288.24</td>\n",
       "    </tr>\n",
       "    <tr>\n",
       "      <th>47</th>\n",
       "      <td>Wipro</td>\n",
       "      <td>IT Services &amp; Consulting</td>\n",
       "      <td>170.15</td>\n",
       "      <td>-9.05</td>\n",
       "      <td>-5.05</td>\n",
       "      <td>97,212.78</td>\n",
       "    </tr>\n",
       "    <tr>\n",
       "      <th>48</th>\n",
       "      <td>Yes Bank</td>\n",
       "      <td>Bank - Private</td>\n",
       "      <td>39.75</td>\n",
       "      <td>-6.10</td>\n",
       "      <td>-13.30</td>\n",
       "      <td>49,888.13</td>\n",
       "    </tr>\n",
       "    <tr>\n",
       "      <th>49</th>\n",
       "      <td>Zee Entertain</td>\n",
       "      <td>TV Broadcasting &amp; Software Production</td>\n",
       "      <td>122.00</td>\n",
       "      <td>-22.90</td>\n",
       "      <td>-15.80</td>\n",
       "      <td>11,717.90</td>\n",
       "    </tr>\n",
       "  </tbody>\n",
       "</table>\n",
       "</div>"
      ],
      "text/plain": [
       "            company                                 industry last_price  \\\n",
       "0       Adani Ports                 Transport Infrastructure     207.80   \n",
       "1      Asian Paints                                   Paints   1,498.45   \n",
       "2         Axis Bank                           Bank - Private     308.65   \n",
       "3        Bajaj Auto              Automobile - 2 & 3 Wheelers   1,935.55   \n",
       "4     Bajaj Finance                           Finance - NBFC   2,266.15   \n",
       "5     Bajaj Finserv                     Finance - Investment   4,621.05   \n",
       "6     Bharti Airtel     Telecommunication - Service Provider     407.35   \n",
       "7   Bharti Infratel            Telecommunication - Equipment     143.40   \n",
       "8              BPCL                               Refineries     269.35   \n",
       "9         Britannia                            Consumer Food   2,137.85   \n",
       "10            Cipla                  Pharmaceuticals & Drugs     375.25   \n",
       "11       Coal India                                     Coal     127.85   \n",
       "12   Dr Reddys Labs                  Pharmaceuticals & Drugs   2,768.40   \n",
       "13    Eicher Motors                  Automobile - LCVS/ HVCS  13,705.90   \n",
       "14             GAIL                         Gas Distribution      78.00   \n",
       "15           Grasim                              Diversified     433.25   \n",
       "16         HCL Tech                 IT Services & Consulting     417.15   \n",
       "17             HDFC                        Finance - Housing   1,520.70   \n",
       "18        HDFC Bank                           Bank - Private     771.55   \n",
       "19    Hero Motocorp              Automobile - 2 & 3 Wheelers   1,616.00   \n",
       "20         Hindalco                             Iron & Steel      87.90   \n",
       "21              HUL            Household & Personal Products   1,869.70   \n",
       "22       ICICI Bank                           Bank - Private     284.00   \n",
       "23    IndusInd Bank                           Bank - Private     336.45   \n",
       "24          Infosys                 IT Services & Consulting     526.45   \n",
       "25              IOC                               Refineries      80.75   \n",
       "26              ITC                       Cigarettes/Tobacco     154.30   \n",
       "27        JSW Steel                             Iron & Steel     144.40   \n",
       "28   Kotak Mahindra                           Bank - Private   1,098.25   \n",
       "29           Larsen               Engineering & Construction     724.05   \n",
       "30              M&M  Automobile - Auto & Truck Manufacturers     293.40   \n",
       "31    Maruti Suzuki              Automobile - Passenger Cars   4,220.35   \n",
       "32           Nestle                            Consumer Food  12,944.65   \n",
       "33             NTPC            Power Generation/Distribution      76.40   \n",
       "34             ONGC           Oil Exploration and Production      60.40   \n",
       "35  Power Grid Corp            Power Generation/Distribution     153.00   \n",
       "36         Reliance           Oil Exploration and Production     884.05   \n",
       "37              SBI                            Bank - Public     181.60   \n",
       "38       Sun Pharma                  Pharmaceuticals & Drugs     324.50   \n",
       "39      Tata Motors                  Automobile - LCVS/ HVCS      66.20   \n",
       "40       Tata Steel                             Iron & Steel     271.15   \n",
       "41              TCS                 IT Services & Consulting   1,669.70   \n",
       "42    Tech Mahindra                 IT Services & Consulting     487.20   \n",
       "43    Titan Company                    Diamond  &  Jewellery     800.95   \n",
       "44  UltraTechCement                                   Cement   3,054.85   \n",
       "45              UPL               Pesticides & Agrochemicals     254.60   \n",
       "46          Vedanta                     Metals - Non Ferrous      62.65   \n",
       "47            Wipro                 IT Services & Consulting     170.15   \n",
       "48         Yes Bank                           Bank - Private      39.75   \n",
       "49    Zee Entertain    TV Broadcasting & Software Production     122.00   \n",
       "\n",
       "       change     chg     mkt_cap  \n",
       "0      -48.60  -18.95   42,219.80  \n",
       "1     -244.50  -14.03  143,730.99  \n",
       "2     -119.50  -27.91   87,083.79  \n",
       "3     -306.75  -13.68   56,008.43  \n",
       "4     -685.75  -23.23  136,351.77  \n",
       "5   -1,612.00  -25.86   73,538.14  \n",
       "6      -55.30  -11.95  222,232.13  \n",
       "7       -4.75   -3.21   26,523.38  \n",
       "8      -48.50  -15.26   58,428.82  \n",
       "9     -329.95  -13.37   51,408.51  \n",
       "10     -17.55   -4.47   30,253.98  \n",
       "11      -4.95   -3.73   78,790.48  \n",
       "12    -128.85   -4.45   46,003.08  \n",
       "13  -1,972.55  -12.58   37,424.61  \n",
       "14      -2.80   -3.47   35,479.66  \n",
       "15     -96.15  -18.16   28,499.14  \n",
       "16     -27.75   -6.24  113,200.54  \n",
       "17    -233.25  -13.30  263,381.77  \n",
       "18    -111.30  -12.61  423,062.97  \n",
       "19    -199.70  -11.00   32,277.88  \n",
       "20     -17.60  -16.68   19,744.30  \n",
       "21    -182.00   -8.87  404,756.59  \n",
       "22     -61.70  -17.85  183,818.69  \n",
       "23    -103.90  -23.59   23,334.01  \n",
       "24     -58.75  -10.04  224,204.38  \n",
       "25      -9.85  -10.87   76,019.33  \n",
       "26     -21.20  -12.08  189,669.13  \n",
       "27     -31.35  -17.84   34,904.66  \n",
       "28    -164.10  -13.00  210,036.63  \n",
       "29    -140.65  -16.27  101,648.80  \n",
       "30     -29.20   -9.05   36,475.27  \n",
       "31    -858.85  -16.91  127,488.36  \n",
       "32  -1,200.85   -8.49  124,806.77  \n",
       "33      -4.85   -5.97   75,594.42  \n",
       "34     -11.95  -16.52   75,984.89  \n",
       "35      -4.25   -2.70   80,043.32  \n",
       "36    -133.90  -13.15  560,422.94  \n",
       "37     -28.25  -13.46  162,070.95  \n",
       "38     -40.75  -11.16   77,858.42  \n",
       "39     -11.10  -14.36   20,449.00  \n",
       "40     -26.60   -8.93   30,544.77  \n",
       "41    -127.75   -7.11  626,535.67  \n",
       "42     -89.15  -15.47   48,053.93  \n",
       "43    -103.95  -11.49   71,107.23  \n",
       "44    -519.00  -14.52   88,170.14  \n",
       "45     -45.55  -15.18   19,452.60  \n",
       "46     -12.80  -16.96   23,288.24  \n",
       "47      -9.05   -5.05   97,212.78  \n",
       "48      -6.10  -13.30   49,888.13  \n",
       "49     -22.90  -15.80   11,717.90  "
      ]
     },
     "execution_count": 60,
     "metadata": {},
     "output_type": "execute_result"
    }
   ],
   "source": [
    "import requests\n",
    "import numpy as np\n",
    "from bs4 import BeautifulSoup\n",
    "import pandas as pd\n",
    "import numpy as np\n",
    "\n",
    "url=\"https://www.moneycontrol.com/stocks/marketstats/indexcomp.php?optex=NSE&opttopic=indexcomp&index=9\"\n",
    "headers = {\n",
    "    'User-agent': 'Mozilla/5.0'}\n",
    "\n",
    "page = requests.get(url,headers=headers)\n",
    "soup = BeautifulSoup(page.content, 'html.parser')\n",
    "\n",
    "company=[]\n",
    "industry = []\n",
    "last_price = []\n",
    "change =[]\n",
    "chg = []\n",
    "mkt_cap =[]\n",
    "\n",
    "td=soup.findAll(\"td\",{\"class\":\"brdrgtgry\"})\n",
    "for i in range(0,len(td),6):\n",
    "    company.append(td[i].text.split('\\n')[0])\n",
    "    industry.append(td[i+1].text.split('\\n')[0])\n",
    "    last_price.append(td[i+2].text.split('\\n')[0])\n",
    "    change.append(td[i+3].text.split('\\n')[0])\n",
    "    chg.append(td[i+4].text.split('\\n')[0])\n",
    "    mkt_cap.append(td[i+5].text.split('\\n')[0])\n",
    "    \n",
    "\n",
    "df = pd.DataFrame({\"company\":company,\"industry\":industry,\"last_price\":last_price,\"change\":change,\"chg\":chg,\"mkt_cap\":mkt_cap})\n",
    "df\n"
   ]
  },
  {
   "cell_type": "code",
   "execution_count": 47,
   "metadata": {},
   "outputs": [
    {
     "data": {
      "text/plain": [
       "(50, 50)"
      ]
     },
     "execution_count": 47,
     "metadata": {},
     "output_type": "execute_result"
    }
   ],
   "source": [
    "len(company),len(industry)"
   ]
  },
  {
   "cell_type": "markdown",
   "metadata": {},
   "source": [
    "## Companies whose difference between  %chg at two fixed time instances crosses 2 percent."
   ]
  },
  {
   "cell_type": "code",
   "execution_count": 57,
   "metadata": {
    "scrolled": true
   },
   "outputs": [
    {
     "name": "stdout",
     "output_type": "stream",
     "text": [
      "11:59:05\n"
     ]
    },
    {
     "name": "stderr",
     "output_type": "stream",
     "text": [
      "/usr/lib/python3/dist-packages/urllib3/connectionpool.py:1006: InsecureRequestWarning: Unverified HTTPS request is being made. Adding certificate verification is strongly advised. See: https://urllib3.readthedocs.io/en/latest/advanced-usage.html#ssl-warnings\n",
      "  InsecureRequestWarning,\n"
     ]
    },
    {
     "name": "stdout",
     "output_type": "stream",
     "text": [
      "11:59:09\n",
      "12:01:09\n",
      "                    chg    chg1    change\n",
      "Bajaj Finserv      3.15    3.32  0.053968\n",
      "Bharti Airtel      4.10    4.26  0.039024\n",
      "Grasim             5.90    6.10  0.033898\n",
      "HDFC               1.32    1.39  0.053030\n",
      "Hindalco           2.48    2.70  0.088710\n",
      "HUL                4.44    4.65  0.047297\n",
      "ICICI Bank        -1.52   -1.77  0.164474\n",
      "IOC               -1.82   -1.94  0.065934\n",
      "JSW Steel          2.58    2.79  0.081395\n",
      "Kotak Mahindra     3.75    3.91  0.042667\n",
      "M&M               -1.49   -1.52  0.020134\n",
      "NTPC              -0.97   -1.03  0.061856\n",
      "Power Grid Corp    3.63    3.80  0.046832\n",
      "Sun Pharma        -0.07   -0.19  1.714286\n",
      "Tata Motors        1.17    1.24  0.059829\n",
      "Vedanta            0.96    1.11  0.156250\n",
      "Yes Bank         -13.14  -13.57  0.032725\n"
     ]
    },
    {
     "name": "stderr",
     "output_type": "stream",
     "text": [
      "/usr/lib/python3/dist-packages/urllib3/connectionpool.py:1006: InsecureRequestWarning: Unverified HTTPS request is being made. Adding certificate verification is strongly advised. See: https://urllib3.readthedocs.io/en/latest/advanced-usage.html#ssl-warnings\n",
      "  InsecureRequestWarning,\n"
     ]
    },
    {
     "name": "stdout",
     "output_type": "stream",
     "text": [
      "12:01:29\n",
      "12:03:29\n",
      "                  chg   chg1    change\n",
      "Adani Ports      5.05   5.54  0.097030\n",
      "Asian Paints     0.03   0.11  2.666667\n",
      "Bajaj Auto      -0.78  -0.82  0.051282\n",
      "Bajaj Finance    1.45   1.61  0.110345\n",
      "BPCL            -0.27  -0.34  0.259259\n",
      "Britannia        4.05   4.31  0.064198\n",
      "Dr Reddys Labs  -0.75  -0.80  0.066667\n",
      "GAIL            -0.98  -1.05  0.071429\n",
      "HDFC             1.39   1.56  0.122302\n",
      "HDFC Bank        0.70   0.72  0.028571\n",
      "IOC             -1.94  -2.01  0.036082\n",
      "Kotak Mahindra   3.91   4.02  0.028133\n",
      "SBI             -1.06  -1.12  0.056604\n",
      "Sun Pharma      -0.19  -0.25  0.315789\n",
      "TCS              1.12   1.17  0.044643\n",
      "Tech Mahindra    2.98   3.14  0.053691\n",
      "Titan Company   -0.23  -0.29  0.260870\n"
     ]
    },
    {
     "name": "stderr",
     "output_type": "stream",
     "text": [
      "/usr/lib/python3/dist-packages/urllib3/connectionpool.py:1006: InsecureRequestWarning: Unverified HTTPS request is being made. Adding certificate verification is strongly advised. See: https://urllib3.readthedocs.io/en/latest/advanced-usage.html#ssl-warnings\n",
      "  InsecureRequestWarning,\n"
     ]
    },
    {
     "name": "stdout",
     "output_type": "stream",
     "text": [
      "12:03:35\n",
      "12:05:35\n",
      "                    chg    chg1    change\n",
      "Adani Ports        5.54    5.72  0.032491\n",
      "Bajaj Auto        -0.82   -1.18  0.439024\n",
      "Bharti Infratel    0.11    0.18  0.636364\n",
      "BPCL              -0.34   -1.03  2.029412\n",
      "Coal India        -1.10   -1.45  0.318182\n",
      "GAIL              -1.05   -1.31  0.247619\n",
      "HCL Tech          -0.98   -1.48  0.510204\n",
      "Hero Motocorp     -0.30   -1.16  2.866667\n",
      "ICICI Bank        -1.77   -2.04  0.152542\n",
      "IndusInd Bank     -4.00   -4.58  0.145000\n",
      "Infosys           -2.16   -2.28  0.055556\n",
      "IOC               -2.01   -2.45  0.218905\n",
      "ITC               -4.48   -4.88  0.089286\n",
      "Larsen            -3.23   -3.63  0.123839\n",
      "NTPC              -1.03   -1.10  0.067961\n",
      "ONGC              -2.96   -3.20  0.081081\n",
      "SBI               -1.12   -1.45  0.294643\n",
      "Sun Pharma        -0.25   -0.34  0.360000\n",
      "Titan Company     -0.29   -0.79  1.724138\n",
      "Wipro             -0.85   -0.88  0.035294\n",
      "Yes Bank         -13.14  -13.86  0.054795\n"
     ]
    },
    {
     "name": "stderr",
     "output_type": "stream",
     "text": [
      "/usr/lib/python3/dist-packages/urllib3/connectionpool.py:1006: InsecureRequestWarning: Unverified HTTPS request is being made. Adding certificate verification is strongly advised. See: https://urllib3.readthedocs.io/en/latest/advanced-usage.html#ssl-warnings\n",
      "  InsecureRequestWarning,\n"
     ]
    },
    {
     "name": "stdout",
     "output_type": "stream",
     "text": [
      "12:05:38\n",
      "12:07:38\n",
      "                   chg   chg1    change\n",
      "Adani Ports       5.72   6.02  0.052448\n",
      "Axis Bank         4.50   5.16  0.146667\n",
      "Bajaj Finance     1.17   1.32  0.128205\n",
      "Bajaj Finserv     2.42   2.72  0.123967\n",
      "Bharti Airtel     3.75   4.24  0.130667\n",
      "Bharti Infratel   0.18   0.81  3.500000\n",
      "Britannia         4.01   4.10  0.022444\n",
      "Cipla             1.51   1.64  0.086093\n",
      "Eicher Motors     2.79   3.04  0.089606\n",
      "Grasim            5.49   5.62  0.023679\n",
      "HDFC              1.01   1.25  0.237624\n",
      "HDFC Bank         0.65   0.74  0.138462\n",
      "Hindalco          2.42   2.65  0.095041\n",
      "JSW Steel         1.87   2.14  0.144385\n",
      "Kotak Mahindra    3.39   3.66  0.079646\n",
      "Larsen           -3.63  -3.87  0.066116\n",
      "Maruti Suzuki     7.65   7.92  0.035294\n",
      "Nestle            4.84   5.09  0.051653\n",
      "NTPC             -1.10  -1.16  0.054545\n",
      "Power Grid Corp   3.43   3.70  0.078717\n",
      "Reliance          7.91   8.23  0.040455\n",
      "Tata Steel        1.53   1.86  0.215686\n",
      "TCS               1.11   1.28  0.153153\n",
      "Tech Mahindra     2.91   3.10  0.065292\n",
      "UltraTechCement   3.35   3.46  0.032836\n",
      "UPL               2.37   2.46  0.037975\n",
      "Vedanta           0.88   0.96  0.090909\n",
      "Zee Entertain     0.67   0.71  0.059701\n"
     ]
    },
    {
     "name": "stderr",
     "output_type": "stream",
     "text": [
      "/usr/lib/python3/dist-packages/urllib3/connectionpool.py:1006: InsecureRequestWarning: Unverified HTTPS request is being made. Adding certificate verification is strongly advised. See: https://urllib3.readthedocs.io/en/latest/advanced-usage.html#ssl-warnings\n",
      "  InsecureRequestWarning,\n"
     ]
    },
    {
     "name": "stdout",
     "output_type": "stream",
     "text": [
      "12:07:42\n",
      "12:09:42\n",
      "                   chg   chg1    change\n",
      "Bajaj Finance     1.32   1.35  0.022727\n",
      "Bajaj Finserv     2.72   2.82  0.036765\n",
      "Bharti Airtel     4.24   4.54  0.070755\n",
      "Bharti Infratel   0.81   0.85  0.049383\n",
      "BPCL             -0.46  -0.97  1.108696\n",
      "GAIL             -1.05  -1.18  0.123810\n",
      "HDFC Bank         0.74   0.78  0.054054\n",
      "HUL               3.83   4.09  0.067885\n",
      "JSW Steel         2.14   2.21  0.032710\n",
      "ONGC             -3.04  -3.12  0.026316\n",
      "SBI              -1.31  -1.36  0.038168\n",
      "Sun Pharma       -0.28  -0.39  0.392857\n",
      "Titan Company    -0.50  -0.57  0.140000\n",
      "UPL               2.46   2.54  0.032520\n",
      "Vedanta           0.96   1.04  0.083333\n",
      "Zee Entertain     0.71   0.76  0.070423\n"
     ]
    },
    {
     "name": "stderr",
     "output_type": "stream",
     "text": [
      "/usr/lib/python3/dist-packages/urllib3/connectionpool.py:1006: InsecureRequestWarning: Unverified HTTPS request is being made. Adding certificate verification is strongly advised. See: https://urllib3.readthedocs.io/en/latest/advanced-usage.html#ssl-warnings\n",
      "  InsecureRequestWarning,\n"
     ]
    },
    {
     "name": "stdout",
     "output_type": "stream",
     "text": [
      "12:09:49\n",
      "12:11:49\n",
      "                   chg   chg1    change\n",
      "Bajaj Finserv     3.01   3.16  0.049834\n",
      "Bharti Infratel   0.92   0.95  0.032609\n",
      "Britannia         4.13   4.30  0.041162\n",
      "Cipla             1.70   1.74  0.023529\n",
      "HDFC              1.03   1.30  0.262136\n",
      "HDFC Bank         0.81   1.01  0.246914\n",
      "IndusInd Bank    -4.26  -4.43  0.039906\n",
      "IOC              -2.07  -2.13  0.028986\n",
      "JSW Steel         2.31   2.45  0.060606\n",
      "Maruti Suzuki     7.66   7.85  0.024804\n",
      "Tata Motors       0.95   1.09  0.147368\n",
      "Tata Steel        1.93   2.17  0.124352\n",
      "TCS               1.29   1.34  0.038760\n",
      "UPL               2.58   2.67  0.034884\n",
      "Wipro            -0.48  -0.54  0.125000\n"
     ]
    },
    {
     "name": "stderr",
     "output_type": "stream",
     "text": [
      "/usr/lib/python3/dist-packages/urllib3/connectionpool.py:1006: InsecureRequestWarning: Unverified HTTPS request is being made. Adding certificate verification is strongly advised. See: https://urllib3.readthedocs.io/en/latest/advanced-usage.html#ssl-warnings\n",
      "  InsecureRequestWarning,\n"
     ]
    },
    {
     "name": "stdout",
     "output_type": "stream",
     "text": [
      "12:11:51\n",
      "12:13:51\n",
      "                   chg    chg1    change\n",
      "Asian Paints      0.14    0.79  4.642857\n",
      "Axis Bank         5.15    5.64  0.095146\n",
      "Bajaj Finance     1.16    1.24  0.068966\n",
      "Bajaj Finserv     3.16    3.76  0.189873\n",
      "Bharti Airtel     4.79    4.94  0.031315\n",
      "Britannia         4.30    4.52  0.051163\n",
      "Cipla             1.74    1.80  0.034483\n",
      "Coal India       -1.13   -1.17  0.035398\n",
      "GAIL             -0.98   -1.11  0.132653\n",
      "Grasim            5.57    5.96  0.070018\n",
      "HDFC              1.30    1.55  0.192308\n",
      "HDFC Bank         1.01    1.13  0.118812\n",
      "ICICI Bank       -1.53   -1.87  0.222222\n",
      "Kotak Mahindra    3.73    3.99  0.069705\n",
      "SBI              -1.09   -1.15  0.055046\n",
      "Tech Mahindra     3.17    3.39  0.069401\n",
      "Titan Company    -0.14   -0.26  0.857143\n",
      "Yes Bank        -14.00  -15.14  0.081429\n"
     ]
    },
    {
     "name": "stderr",
     "output_type": "stream",
     "text": [
      "/usr/lib/python3/dist-packages/urllib3/connectionpool.py:1006: InsecureRequestWarning: Unverified HTTPS request is being made. Adding certificate verification is strongly advised. See: https://urllib3.readthedocs.io/en/latest/advanced-usage.html#ssl-warnings\n",
      "  InsecureRequestWarning,\n"
     ]
    },
    {
     "name": "stdout",
     "output_type": "stream",
     "text": [
      "12:13:54\n",
      "12:15:54\n",
      "                   chg   chg1    change\n",
      "Adani Ports       5.89   6.02  0.022071\n",
      "Asian Paints      0.79   0.90  0.139241\n",
      "Axis Bank         5.64   5.76  0.021277\n",
      "Bajaj Auto       -0.51  -0.65  0.274510\n",
      "Bharti Infratel   0.95   1.16  0.221053\n",
      "Eicher Motors     2.93   3.21  0.095563\n",
      "HCL Tech         -0.60  -0.71  0.183333\n",
      "HDFC              1.55   1.60  0.032258\n",
      "HDFC Bank         1.13   1.20  0.061947\n",
      "Hero Motocorp    -0.41  -0.43  0.048780\n",
      "Infosys          -1.51  -1.58  0.046358\n",
      "ITC              -4.04  -4.21  0.042079\n",
      "Nestle            5.13   5.45  0.062378\n",
      "ONGC             -2.96  -3.04  0.027027\n",
      "UltraTechCement   3.62   3.79  0.046961\n",
      "UPL               2.65   2.82  0.064151\n",
      "Vedanta           0.96   1.04  0.083333\n"
     ]
    },
    {
     "name": "stderr",
     "output_type": "stream",
     "text": [
      "/usr/lib/python3/dist-packages/urllib3/connectionpool.py:1006: InsecureRequestWarning: Unverified HTTPS request is being made. Adding certificate verification is strongly advised. See: https://urllib3.readthedocs.io/en/latest/advanced-usage.html#ssl-warnings\n",
      "  InsecureRequestWarning,\n"
     ]
    },
    {
     "name": "stdout",
     "output_type": "stream",
     "text": [
      "12:16:10\n",
      "12:18:10\n",
      "                   chg   chg1    change\n",
      "Asian Paints      0.90   1.15  0.277778\n",
      "Axis Bank         5.76   6.23  0.081597\n",
      "Bajaj Finance     1.13   1.16  0.026549\n",
      "Bajaj Finserv     3.54   3.69  0.042373\n",
      "Bharti Airtel     4.99   5.14  0.030060\n",
      "Bharti Infratel   1.16   1.48  0.275862\n",
      "Coal India       -1.10  -1.29  0.172727\n",
      "Eicher Motors     3.21   3.29  0.024922\n",
      "HCL Tech         -0.71  -0.80  0.126761\n",
      "HDFC              1.60   1.71  0.068750\n",
      "HDFC Bank         1.20   1.29  0.075000\n",
      "ICICI Bank       -1.65  -1.75  0.060606\n",
      "M&M              -0.37  -0.43  0.162162\n",
      "NTPC             -0.84  -0.90  0.071429\n",
      "Sun Pharma       -0.24  -0.39  0.625000\n",
      "TCS               1.00   1.11  0.110000\n"
     ]
    },
    {
     "name": "stderr",
     "output_type": "stream",
     "text": [
      "/usr/lib/python3/dist-packages/urllib3/connectionpool.py:1006: InsecureRequestWarning: Unverified HTTPS request is being made. Adding certificate verification is strongly advised. See: https://urllib3.readthedocs.io/en/latest/advanced-usage.html#ssl-warnings\n",
      "  InsecureRequestWarning,\n"
     ]
    },
    {
     "name": "stdout",
     "output_type": "stream",
     "text": [
      "12:18:13\n",
      "12:20:13\n"
     ]
    },
    {
     "ename": "ConnectionError",
     "evalue": "HTTPSConnectionPool(host='www.moneycontrol.com', port=443): Max retries exceeded with url: /stocks/marketstats/indexcomp.php?optex=NSE&opttopic=indexcomp&index=9 (Caused by NewConnectionError('<urllib3.connection.VerifiedHTTPSConnection object at 0x7f33106920d0>: Failed to establish a new connection: [Errno -2] Name or service not known'))",
     "output_type": "error",
     "traceback": [
      "\u001b[0;31m---------------------------------------------------------------------------\u001b[0m",
      "\u001b[0;31mgaierror\u001b[0m                                  Traceback (most recent call last)",
      "\u001b[0;32m/usr/lib/python3/dist-packages/urllib3/connection.py\u001b[0m in \u001b[0;36m_new_conn\u001b[0;34m(self)\u001b[0m\n\u001b[1;32m    156\u001b[0m             conn = connection.create_connection(\n\u001b[0;32m--> 157\u001b[0;31m                 \u001b[0;34m(\u001b[0m\u001b[0mself\u001b[0m\u001b[0;34m.\u001b[0m\u001b[0m_dns_host\u001b[0m\u001b[0;34m,\u001b[0m \u001b[0mself\u001b[0m\u001b[0;34m.\u001b[0m\u001b[0mport\u001b[0m\u001b[0;34m)\u001b[0m\u001b[0;34m,\u001b[0m \u001b[0mself\u001b[0m\u001b[0;34m.\u001b[0m\u001b[0mtimeout\u001b[0m\u001b[0;34m,\u001b[0m \u001b[0;34m**\u001b[0m\u001b[0mextra_kw\u001b[0m\u001b[0;34m\u001b[0m\u001b[0;34m\u001b[0m\u001b[0m\n\u001b[0m\u001b[1;32m    158\u001b[0m             )\n",
      "\u001b[0;32m/usr/lib/python3/dist-packages/urllib3/util/connection.py\u001b[0m in \u001b[0;36mcreate_connection\u001b[0;34m(address, timeout, source_address, socket_options)\u001b[0m\n\u001b[1;32m     60\u001b[0m \u001b[0;34m\u001b[0m\u001b[0m\n\u001b[0;32m---> 61\u001b[0;31m     \u001b[0;32mfor\u001b[0m \u001b[0mres\u001b[0m \u001b[0;32min\u001b[0m \u001b[0msocket\u001b[0m\u001b[0;34m.\u001b[0m\u001b[0mgetaddrinfo\u001b[0m\u001b[0;34m(\u001b[0m\u001b[0mhost\u001b[0m\u001b[0;34m,\u001b[0m \u001b[0mport\u001b[0m\u001b[0;34m,\u001b[0m \u001b[0mfamily\u001b[0m\u001b[0;34m,\u001b[0m \u001b[0msocket\u001b[0m\u001b[0;34m.\u001b[0m\u001b[0mSOCK_STREAM\u001b[0m\u001b[0;34m)\u001b[0m\u001b[0;34m:\u001b[0m\u001b[0;34m\u001b[0m\u001b[0;34m\u001b[0m\u001b[0m\n\u001b[0m\u001b[1;32m     62\u001b[0m         \u001b[0maf\u001b[0m\u001b[0;34m,\u001b[0m \u001b[0msocktype\u001b[0m\u001b[0;34m,\u001b[0m \u001b[0mproto\u001b[0m\u001b[0;34m,\u001b[0m \u001b[0mcanonname\u001b[0m\u001b[0;34m,\u001b[0m \u001b[0msa\u001b[0m \u001b[0;34m=\u001b[0m \u001b[0mres\u001b[0m\u001b[0;34m\u001b[0m\u001b[0;34m\u001b[0m\u001b[0m\n",
      "\u001b[0;32m/usr/lib/python3.7/socket.py\u001b[0m in \u001b[0;36mgetaddrinfo\u001b[0;34m(host, port, family, type, proto, flags)\u001b[0m\n\u001b[1;32m    751\u001b[0m     \u001b[0maddrlist\u001b[0m \u001b[0;34m=\u001b[0m \u001b[0;34m[\u001b[0m\u001b[0;34m]\u001b[0m\u001b[0;34m\u001b[0m\u001b[0;34m\u001b[0m\u001b[0m\n\u001b[0;32m--> 752\u001b[0;31m     \u001b[0;32mfor\u001b[0m \u001b[0mres\u001b[0m \u001b[0;32min\u001b[0m \u001b[0m_socket\u001b[0m\u001b[0;34m.\u001b[0m\u001b[0mgetaddrinfo\u001b[0m\u001b[0;34m(\u001b[0m\u001b[0mhost\u001b[0m\u001b[0;34m,\u001b[0m \u001b[0mport\u001b[0m\u001b[0;34m,\u001b[0m \u001b[0mfamily\u001b[0m\u001b[0;34m,\u001b[0m \u001b[0mtype\u001b[0m\u001b[0;34m,\u001b[0m \u001b[0mproto\u001b[0m\u001b[0;34m,\u001b[0m \u001b[0mflags\u001b[0m\u001b[0;34m)\u001b[0m\u001b[0;34m:\u001b[0m\u001b[0;34m\u001b[0m\u001b[0;34m\u001b[0m\u001b[0m\n\u001b[0m\u001b[1;32m    753\u001b[0m         \u001b[0maf\u001b[0m\u001b[0;34m,\u001b[0m \u001b[0msocktype\u001b[0m\u001b[0;34m,\u001b[0m \u001b[0mproto\u001b[0m\u001b[0;34m,\u001b[0m \u001b[0mcanonname\u001b[0m\u001b[0;34m,\u001b[0m \u001b[0msa\u001b[0m \u001b[0;34m=\u001b[0m \u001b[0mres\u001b[0m\u001b[0;34m\u001b[0m\u001b[0;34m\u001b[0m\u001b[0m\n",
      "\u001b[0;31mgaierror\u001b[0m: [Errno -2] Name or service not known",
      "\nDuring handling of the above exception, another exception occurred:\n",
      "\u001b[0;31mNewConnectionError\u001b[0m                        Traceback (most recent call last)",
      "\u001b[0;32m/usr/lib/python3/dist-packages/urllib3/connectionpool.py\u001b[0m in \u001b[0;36murlopen\u001b[0;34m(self, method, url, body, headers, retries, redirect, assert_same_host, timeout, pool_timeout, release_conn, chunked, body_pos, **response_kw)\u001b[0m\n\u001b[1;32m    671\u001b[0m                 \u001b[0mheaders\u001b[0m\u001b[0;34m=\u001b[0m\u001b[0mheaders\u001b[0m\u001b[0;34m,\u001b[0m\u001b[0;34m\u001b[0m\u001b[0;34m\u001b[0m\u001b[0m\n\u001b[0;32m--> 672\u001b[0;31m                 \u001b[0mchunked\u001b[0m\u001b[0;34m=\u001b[0m\u001b[0mchunked\u001b[0m\u001b[0;34m,\u001b[0m\u001b[0;34m\u001b[0m\u001b[0;34m\u001b[0m\u001b[0m\n\u001b[0m\u001b[1;32m    673\u001b[0m             )\n",
      "\u001b[0;32m/usr/lib/python3/dist-packages/urllib3/connectionpool.py\u001b[0m in \u001b[0;36m_make_request\u001b[0;34m(self, conn, method, url, timeout, chunked, **httplib_request_kw)\u001b[0m\n\u001b[1;32m    375\u001b[0m         \u001b[0;32mtry\u001b[0m\u001b[0;34m:\u001b[0m\u001b[0;34m\u001b[0m\u001b[0;34m\u001b[0m\u001b[0m\n\u001b[0;32m--> 376\u001b[0;31m             \u001b[0mself\u001b[0m\u001b[0;34m.\u001b[0m\u001b[0m_validate_conn\u001b[0m\u001b[0;34m(\u001b[0m\u001b[0mconn\u001b[0m\u001b[0;34m)\u001b[0m\u001b[0;34m\u001b[0m\u001b[0;34m\u001b[0m\u001b[0m\n\u001b[0m\u001b[1;32m    377\u001b[0m         \u001b[0;32mexcept\u001b[0m \u001b[0;34m(\u001b[0m\u001b[0mSocketTimeout\u001b[0m\u001b[0;34m,\u001b[0m \u001b[0mBaseSSLError\u001b[0m\u001b[0;34m)\u001b[0m \u001b[0;32mas\u001b[0m \u001b[0me\u001b[0m\u001b[0;34m:\u001b[0m\u001b[0;34m\u001b[0m\u001b[0;34m\u001b[0m\u001b[0m\n",
      "\u001b[0;32m/usr/lib/python3/dist-packages/urllib3/connectionpool.py\u001b[0m in \u001b[0;36m_validate_conn\u001b[0;34m(self, conn)\u001b[0m\n\u001b[1;32m    995\u001b[0m         \u001b[0;32mif\u001b[0m \u001b[0;32mnot\u001b[0m \u001b[0mgetattr\u001b[0m\u001b[0;34m(\u001b[0m\u001b[0mconn\u001b[0m\u001b[0;34m,\u001b[0m \u001b[0;34m\"sock\"\u001b[0m\u001b[0;34m,\u001b[0m \u001b[0;32mNone\u001b[0m\u001b[0;34m)\u001b[0m\u001b[0;34m:\u001b[0m  \u001b[0;31m# AppEngine might not have  `.sock`\u001b[0m\u001b[0;34m\u001b[0m\u001b[0;34m\u001b[0m\u001b[0m\n\u001b[0;32m--> 996\u001b[0;31m             \u001b[0mconn\u001b[0m\u001b[0;34m.\u001b[0m\u001b[0mconnect\u001b[0m\u001b[0;34m(\u001b[0m\u001b[0;34m)\u001b[0m\u001b[0;34m\u001b[0m\u001b[0;34m\u001b[0m\u001b[0m\n\u001b[0m\u001b[1;32m    997\u001b[0m \u001b[0;34m\u001b[0m\u001b[0m\n",
      "\u001b[0;32m/usr/lib/python3/dist-packages/urllib3/connection.py\u001b[0m in \u001b[0;36mconnect\u001b[0;34m(self)\u001b[0m\n\u001b[1;32m    333\u001b[0m         \u001b[0;31m# Add certificate verification\u001b[0m\u001b[0;34m\u001b[0m\u001b[0;34m\u001b[0m\u001b[0;34m\u001b[0m\u001b[0m\n\u001b[0;32m--> 334\u001b[0;31m         \u001b[0mconn\u001b[0m \u001b[0;34m=\u001b[0m \u001b[0mself\u001b[0m\u001b[0;34m.\u001b[0m\u001b[0m_new_conn\u001b[0m\u001b[0;34m(\u001b[0m\u001b[0;34m)\u001b[0m\u001b[0;34m\u001b[0m\u001b[0;34m\u001b[0m\u001b[0m\n\u001b[0m\u001b[1;32m    335\u001b[0m         \u001b[0mhostname\u001b[0m \u001b[0;34m=\u001b[0m \u001b[0mself\u001b[0m\u001b[0;34m.\u001b[0m\u001b[0mhost\u001b[0m\u001b[0;34m\u001b[0m\u001b[0;34m\u001b[0m\u001b[0m\n",
      "\u001b[0;32m/usr/lib/python3/dist-packages/urllib3/connection.py\u001b[0m in \u001b[0;36m_new_conn\u001b[0;34m(self)\u001b[0m\n\u001b[1;32m    168\u001b[0m             raise NewConnectionError(\n\u001b[0;32m--> 169\u001b[0;31m                 \u001b[0mself\u001b[0m\u001b[0;34m,\u001b[0m \u001b[0;34m\"Failed to establish a new connection: %s\"\u001b[0m \u001b[0;34m%\u001b[0m \u001b[0me\u001b[0m\u001b[0;34m\u001b[0m\u001b[0;34m\u001b[0m\u001b[0m\n\u001b[0m\u001b[1;32m    170\u001b[0m             )\n",
      "\u001b[0;31mNewConnectionError\u001b[0m: <urllib3.connection.VerifiedHTTPSConnection object at 0x7f33106920d0>: Failed to establish a new connection: [Errno -2] Name or service not known",
      "\nDuring handling of the above exception, another exception occurred:\n",
      "\u001b[0;31mMaxRetryError\u001b[0m                             Traceback (most recent call last)",
      "\u001b[0;32m/usr/local/lib/python3.7/dist-packages/requests/adapters.py\u001b[0m in \u001b[0;36msend\u001b[0;34m(self, request, stream, timeout, verify, cert, proxies)\u001b[0m\n\u001b[1;32m    448\u001b[0m                     \u001b[0mretries\u001b[0m\u001b[0;34m=\u001b[0m\u001b[0mself\u001b[0m\u001b[0;34m.\u001b[0m\u001b[0mmax_retries\u001b[0m\u001b[0;34m,\u001b[0m\u001b[0;34m\u001b[0m\u001b[0;34m\u001b[0m\u001b[0m\n\u001b[0;32m--> 449\u001b[0;31m                     \u001b[0mtimeout\u001b[0m\u001b[0;34m=\u001b[0m\u001b[0mtimeout\u001b[0m\u001b[0;34m\u001b[0m\u001b[0;34m\u001b[0m\u001b[0m\n\u001b[0m\u001b[1;32m    450\u001b[0m                 )\n",
      "\u001b[0;32m/usr/lib/python3/dist-packages/urllib3/connectionpool.py\u001b[0m in \u001b[0;36murlopen\u001b[0;34m(self, method, url, body, headers, retries, redirect, assert_same_host, timeout, pool_timeout, release_conn, chunked, body_pos, **response_kw)\u001b[0m\n\u001b[1;32m    719\u001b[0m             retries = retries.increment(\n\u001b[0;32m--> 720\u001b[0;31m                 \u001b[0mmethod\u001b[0m\u001b[0;34m,\u001b[0m \u001b[0murl\u001b[0m\u001b[0;34m,\u001b[0m \u001b[0merror\u001b[0m\u001b[0;34m=\u001b[0m\u001b[0me\u001b[0m\u001b[0;34m,\u001b[0m \u001b[0m_pool\u001b[0m\u001b[0;34m=\u001b[0m\u001b[0mself\u001b[0m\u001b[0;34m,\u001b[0m \u001b[0m_stacktrace\u001b[0m\u001b[0;34m=\u001b[0m\u001b[0msys\u001b[0m\u001b[0;34m.\u001b[0m\u001b[0mexc_info\u001b[0m\u001b[0;34m(\u001b[0m\u001b[0;34m)\u001b[0m\u001b[0;34m[\u001b[0m\u001b[0;36m2\u001b[0m\u001b[0;34m]\u001b[0m\u001b[0;34m\u001b[0m\u001b[0;34m\u001b[0m\u001b[0m\n\u001b[0m\u001b[1;32m    721\u001b[0m             )\n",
      "\u001b[0;32m/usr/lib/python3/dist-packages/urllib3/util/retry.py\u001b[0m in \u001b[0;36mincrement\u001b[0;34m(self, method, url, response, error, _pool, _stacktrace)\u001b[0m\n\u001b[1;32m    435\u001b[0m         \u001b[0;32mif\u001b[0m \u001b[0mnew_retry\u001b[0m\u001b[0;34m.\u001b[0m\u001b[0mis_exhausted\u001b[0m\u001b[0;34m(\u001b[0m\u001b[0;34m)\u001b[0m\u001b[0;34m:\u001b[0m\u001b[0;34m\u001b[0m\u001b[0;34m\u001b[0m\u001b[0m\n\u001b[0;32m--> 436\u001b[0;31m             \u001b[0;32mraise\u001b[0m \u001b[0mMaxRetryError\u001b[0m\u001b[0;34m(\u001b[0m\u001b[0m_pool\u001b[0m\u001b[0;34m,\u001b[0m \u001b[0murl\u001b[0m\u001b[0;34m,\u001b[0m \u001b[0merror\u001b[0m \u001b[0;32mor\u001b[0m \u001b[0mResponseError\u001b[0m\u001b[0;34m(\u001b[0m\u001b[0mcause\u001b[0m\u001b[0;34m)\u001b[0m\u001b[0;34m)\u001b[0m\u001b[0;34m\u001b[0m\u001b[0;34m\u001b[0m\u001b[0m\n\u001b[0m\u001b[1;32m    437\u001b[0m \u001b[0;34m\u001b[0m\u001b[0m\n",
      "\u001b[0;31mMaxRetryError\u001b[0m: HTTPSConnectionPool(host='www.moneycontrol.com', port=443): Max retries exceeded with url: /stocks/marketstats/indexcomp.php?optex=NSE&opttopic=indexcomp&index=9 (Caused by NewConnectionError('<urllib3.connection.VerifiedHTTPSConnection object at 0x7f33106920d0>: Failed to establish a new connection: [Errno -2] Name or service not known'))",
      "\nDuring handling of the above exception, another exception occurred:\n",
      "\u001b[0;31mConnectionError\u001b[0m                           Traceback (most recent call last)",
      "\u001b[0;32m<ipython-input-57-e5d40e5194df>\u001b[0m in \u001b[0;36m<module>\u001b[0;34m\u001b[0m\n\u001b[1;32m     37\u001b[0m     \u001b[0mprint\u001b[0m\u001b[0;34m(\u001b[0m\u001b[0mdatetime\u001b[0m\u001b[0;34m.\u001b[0m\u001b[0mdatetime\u001b[0m\u001b[0;34m.\u001b[0m\u001b[0mnow\u001b[0m\u001b[0;34m(\u001b[0m\u001b[0;34m)\u001b[0m\u001b[0;34m.\u001b[0m\u001b[0mstrftime\u001b[0m\u001b[0;34m(\u001b[0m\u001b[0;34m\"%H:%M:%S\"\u001b[0m\u001b[0;34m)\u001b[0m\u001b[0;34m)\u001b[0m\u001b[0;34m\u001b[0m\u001b[0;34m\u001b[0m\u001b[0m\n\u001b[1;32m     38\u001b[0m \u001b[0;34m\u001b[0m\u001b[0m\n\u001b[0;32m---> 39\u001b[0;31m     \u001b[0mpage\u001b[0m \u001b[0;34m=\u001b[0m \u001b[0mrequests\u001b[0m\u001b[0;34m.\u001b[0m\u001b[0mget\u001b[0m\u001b[0;34m(\u001b[0m\u001b[0murl\u001b[0m\u001b[0;34m,\u001b[0m\u001b[0mheaders\u001b[0m\u001b[0;34m=\u001b[0m\u001b[0mheaders\u001b[0m\u001b[0;34m)\u001b[0m\u001b[0;34m\u001b[0m\u001b[0;34m\u001b[0m\u001b[0m\n\u001b[0m\u001b[1;32m     40\u001b[0m     \u001b[0msoup\u001b[0m \u001b[0;34m=\u001b[0m \u001b[0mBeautifulSoup\u001b[0m\u001b[0;34m(\u001b[0m\u001b[0mpage\u001b[0m\u001b[0;34m.\u001b[0m\u001b[0mcontent\u001b[0m\u001b[0;34m,\u001b[0m \u001b[0;34m'html.parser'\u001b[0m\u001b[0;34m)\u001b[0m\u001b[0;34m\u001b[0m\u001b[0;34m\u001b[0m\u001b[0m\n\u001b[1;32m     41\u001b[0m     \u001b[0mtd\u001b[0m\u001b[0;34m=\u001b[0m\u001b[0msoup\u001b[0m\u001b[0;34m.\u001b[0m\u001b[0mfindAll\u001b[0m\u001b[0;34m(\u001b[0m\u001b[0;34m\"td\"\u001b[0m\u001b[0;34m,\u001b[0m\u001b[0;34m{\u001b[0m\u001b[0;34m\"class\"\u001b[0m\u001b[0;34m:\u001b[0m\u001b[0;34m\"brdrgtgry\"\u001b[0m\u001b[0;34m}\u001b[0m\u001b[0;34m)\u001b[0m\u001b[0;34m\u001b[0m\u001b[0;34m\u001b[0m\u001b[0m\n",
      "\u001b[0;32m/usr/local/lib/python3.7/dist-packages/requests/api.py\u001b[0m in \u001b[0;36mget\u001b[0;34m(url, params, **kwargs)\u001b[0m\n\u001b[1;32m     73\u001b[0m \u001b[0;34m\u001b[0m\u001b[0m\n\u001b[1;32m     74\u001b[0m     \u001b[0mkwargs\u001b[0m\u001b[0;34m.\u001b[0m\u001b[0msetdefault\u001b[0m\u001b[0;34m(\u001b[0m\u001b[0;34m'allow_redirects'\u001b[0m\u001b[0;34m,\u001b[0m \u001b[0;32mTrue\u001b[0m\u001b[0;34m)\u001b[0m\u001b[0;34m\u001b[0m\u001b[0;34m\u001b[0m\u001b[0m\n\u001b[0;32m---> 75\u001b[0;31m     \u001b[0;32mreturn\u001b[0m \u001b[0mrequest\u001b[0m\u001b[0;34m(\u001b[0m\u001b[0;34m'get'\u001b[0m\u001b[0;34m,\u001b[0m \u001b[0murl\u001b[0m\u001b[0;34m,\u001b[0m \u001b[0mparams\u001b[0m\u001b[0;34m=\u001b[0m\u001b[0mparams\u001b[0m\u001b[0;34m,\u001b[0m \u001b[0;34m**\u001b[0m\u001b[0mkwargs\u001b[0m\u001b[0;34m)\u001b[0m\u001b[0;34m\u001b[0m\u001b[0;34m\u001b[0m\u001b[0m\n\u001b[0m\u001b[1;32m     76\u001b[0m \u001b[0;34m\u001b[0m\u001b[0m\n\u001b[1;32m     77\u001b[0m \u001b[0;34m\u001b[0m\u001b[0m\n",
      "\u001b[0;32m/usr/local/lib/python3.7/dist-packages/requests/api.py\u001b[0m in \u001b[0;36mrequest\u001b[0;34m(method, url, **kwargs)\u001b[0m\n\u001b[1;32m     58\u001b[0m     \u001b[0;31m# cases, and look like a memory leak in others.\u001b[0m\u001b[0;34m\u001b[0m\u001b[0;34m\u001b[0m\u001b[0;34m\u001b[0m\u001b[0m\n\u001b[1;32m     59\u001b[0m     \u001b[0;32mwith\u001b[0m \u001b[0msessions\u001b[0m\u001b[0;34m.\u001b[0m\u001b[0mSession\u001b[0m\u001b[0;34m(\u001b[0m\u001b[0;34m)\u001b[0m \u001b[0;32mas\u001b[0m \u001b[0msession\u001b[0m\u001b[0;34m:\u001b[0m\u001b[0;34m\u001b[0m\u001b[0;34m\u001b[0m\u001b[0m\n\u001b[0;32m---> 60\u001b[0;31m         \u001b[0;32mreturn\u001b[0m \u001b[0msession\u001b[0m\u001b[0;34m.\u001b[0m\u001b[0mrequest\u001b[0m\u001b[0;34m(\u001b[0m\u001b[0mmethod\u001b[0m\u001b[0;34m=\u001b[0m\u001b[0mmethod\u001b[0m\u001b[0;34m,\u001b[0m \u001b[0murl\u001b[0m\u001b[0;34m=\u001b[0m\u001b[0murl\u001b[0m\u001b[0;34m,\u001b[0m \u001b[0;34m**\u001b[0m\u001b[0mkwargs\u001b[0m\u001b[0;34m)\u001b[0m\u001b[0;34m\u001b[0m\u001b[0;34m\u001b[0m\u001b[0m\n\u001b[0m\u001b[1;32m     61\u001b[0m \u001b[0;34m\u001b[0m\u001b[0m\n\u001b[1;32m     62\u001b[0m \u001b[0;34m\u001b[0m\u001b[0m\n",
      "\u001b[0;32m/usr/local/lib/python3.7/dist-packages/requests/sessions.py\u001b[0m in \u001b[0;36mrequest\u001b[0;34m(self, method, url, params, data, headers, cookies, files, auth, timeout, allow_redirects, proxies, hooks, stream, verify, cert, json)\u001b[0m\n\u001b[1;32m    531\u001b[0m         }\n\u001b[1;32m    532\u001b[0m         \u001b[0msend_kwargs\u001b[0m\u001b[0;34m.\u001b[0m\u001b[0mupdate\u001b[0m\u001b[0;34m(\u001b[0m\u001b[0msettings\u001b[0m\u001b[0;34m)\u001b[0m\u001b[0;34m\u001b[0m\u001b[0;34m\u001b[0m\u001b[0m\n\u001b[0;32m--> 533\u001b[0;31m         \u001b[0mresp\u001b[0m \u001b[0;34m=\u001b[0m \u001b[0mself\u001b[0m\u001b[0;34m.\u001b[0m\u001b[0msend\u001b[0m\u001b[0;34m(\u001b[0m\u001b[0mprep\u001b[0m\u001b[0;34m,\u001b[0m \u001b[0;34m**\u001b[0m\u001b[0msend_kwargs\u001b[0m\u001b[0;34m)\u001b[0m\u001b[0;34m\u001b[0m\u001b[0;34m\u001b[0m\u001b[0m\n\u001b[0m\u001b[1;32m    534\u001b[0m \u001b[0;34m\u001b[0m\u001b[0m\n\u001b[1;32m    535\u001b[0m         \u001b[0;32mreturn\u001b[0m \u001b[0mresp\u001b[0m\u001b[0;34m\u001b[0m\u001b[0;34m\u001b[0m\u001b[0m\n",
      "\u001b[0;32m/usr/local/lib/python3.7/dist-packages/requests/sessions.py\u001b[0m in \u001b[0;36msend\u001b[0;34m(self, request, **kwargs)\u001b[0m\n\u001b[1;32m    644\u001b[0m \u001b[0;34m\u001b[0m\u001b[0m\n\u001b[1;32m    645\u001b[0m         \u001b[0;31m# Send the request\u001b[0m\u001b[0;34m\u001b[0m\u001b[0;34m\u001b[0m\u001b[0;34m\u001b[0m\u001b[0m\n\u001b[0;32m--> 646\u001b[0;31m         \u001b[0mr\u001b[0m \u001b[0;34m=\u001b[0m \u001b[0madapter\u001b[0m\u001b[0;34m.\u001b[0m\u001b[0msend\u001b[0m\u001b[0;34m(\u001b[0m\u001b[0mrequest\u001b[0m\u001b[0;34m,\u001b[0m \u001b[0;34m**\u001b[0m\u001b[0mkwargs\u001b[0m\u001b[0;34m)\u001b[0m\u001b[0;34m\u001b[0m\u001b[0;34m\u001b[0m\u001b[0m\n\u001b[0m\u001b[1;32m    647\u001b[0m \u001b[0;34m\u001b[0m\u001b[0m\n\u001b[1;32m    648\u001b[0m         \u001b[0;31m# Total elapsed time of the request (approximately)\u001b[0m\u001b[0;34m\u001b[0m\u001b[0;34m\u001b[0m\u001b[0;34m\u001b[0m\u001b[0m\n",
      "\u001b[0;32m/usr/local/lib/python3.7/dist-packages/requests/adapters.py\u001b[0m in \u001b[0;36msend\u001b[0;34m(self, request, stream, timeout, verify, cert, proxies)\u001b[0m\n\u001b[1;32m    514\u001b[0m                 \u001b[0;32mraise\u001b[0m \u001b[0mSSLError\u001b[0m\u001b[0;34m(\u001b[0m\u001b[0me\u001b[0m\u001b[0;34m,\u001b[0m \u001b[0mrequest\u001b[0m\u001b[0;34m=\u001b[0m\u001b[0mrequest\u001b[0m\u001b[0;34m)\u001b[0m\u001b[0;34m\u001b[0m\u001b[0;34m\u001b[0m\u001b[0m\n\u001b[1;32m    515\u001b[0m \u001b[0;34m\u001b[0m\u001b[0m\n\u001b[0;32m--> 516\u001b[0;31m             \u001b[0;32mraise\u001b[0m \u001b[0mConnectionError\u001b[0m\u001b[0;34m(\u001b[0m\u001b[0me\u001b[0m\u001b[0;34m,\u001b[0m \u001b[0mrequest\u001b[0m\u001b[0;34m=\u001b[0m\u001b[0mrequest\u001b[0m\u001b[0;34m)\u001b[0m\u001b[0;34m\u001b[0m\u001b[0;34m\u001b[0m\u001b[0m\n\u001b[0m\u001b[1;32m    517\u001b[0m \u001b[0;34m\u001b[0m\u001b[0m\n\u001b[1;32m    518\u001b[0m         \u001b[0;32mexcept\u001b[0m \u001b[0mClosedPoolError\u001b[0m \u001b[0;32mas\u001b[0m \u001b[0me\u001b[0m\u001b[0;34m:\u001b[0m\u001b[0;34m\u001b[0m\u001b[0;34m\u001b[0m\u001b[0m\n",
      "\u001b[0;31mConnectionError\u001b[0m: HTTPSConnectionPool(host='www.moneycontrol.com', port=443): Max retries exceeded with url: /stocks/marketstats/indexcomp.php?optex=NSE&opttopic=indexcomp&index=9 (Caused by NewConnectionError('<urllib3.connection.VerifiedHTTPSConnection object at 0x7f33106920d0>: Failed to establish a new connection: [Errno -2] Name or service not known'))"
     ]
    }
   ],
   "source": [
    "import datetime\n",
    "import time\n",
    "import requests\n",
    "from bs4 import BeautifulSoup\n",
    "\n",
    "url=\"https://www.moneycontrol.com/stocks/marketstats/indexcomp.php?optex=NSE&opttopic=indexcomp&index=9\"\n",
    "headers = {\n",
    "    'User-agent': 'Mozilla/5.0'}\n",
    "\n",
    "\n",
    "import ctypes\n",
    "libc = ctypes.cdll.LoadLibrary('libc.so.6')\n",
    "res_init = libc.__res_init\n",
    "res_init()\n",
    "\n",
    "t_end = time.time() + 60 * 20\n",
    "\n",
    "#loop will run till 20 minutes\n",
    "while time.time() < t_end:\n",
    "\n",
    "    #list to store %chg \n",
    "    chg=[]\n",
    "    #list to store %cgh after 120 sec\n",
    "    chg1=[]\n",
    "    company1=[]\n",
    "\n",
    "    page = requests.get(url,headers=headers,verify =False)\n",
    "    soup = BeautifulSoup(page.content, 'html.parser')\n",
    "    td=soup.findAll(\"td\",{\"class\":\"brdrgtgry\"})\n",
    "    \n",
    "    \n",
    "    for i in range(0,len(td),6):\n",
    "        company1.append(td[i].text.split('\\n')[0])\n",
    "        chg.append(td[i+4].text.split('\\n')[0])\n",
    "        \n",
    "    print(datetime.datetime.now().strftime(\"%H:%M:%S\"))\n",
    "    \n",
    "    \n",
    "    time.sleep(120)\n",
    "    \n",
    "    print(datetime.datetime.now().strftime(\"%H:%M:%S\"))\n",
    "    \n",
    "    page = requests.get(url,headers=headers)\n",
    "    soup = BeautifulSoup(page.content, 'html.parser')\n",
    "    td=soup.findAll(\"td\",{\"class\":\"brdrgtgry\"})\n",
    "    for i in range(0,len(td),6):\n",
    "        chg1.append(td[i+4].text.split('\\n')[0])\n",
    "\n",
    "    \n",
    "    df=pd.DataFrame({\"chg\":chg,\"chg1\":chg1},index=company1)\n",
    "    #calculating change between %chg at 2 time instances\n",
    "    df['change'] = (df['chg1'].astype(float)-df['chg'].astype(float))/df['chg'].astype(float)\n",
    "    \n",
    "    print(df[df['change']>0.02])  \n",
    "    "
   ]
  },
  {
   "cell_type": "markdown",
   "metadata": {},
   "source": [
    "## What happened here is that moneycontrol server refuses the  connection as we are sending too many requests from same ip address in short period of time "
   ]
  },
  {
   "cell_type": "code",
   "execution_count": null,
   "metadata": {},
   "outputs": [],
   "source": []
  },
  {
   "cell_type": "markdown",
   "metadata": {},
   "source": [
    "## Performing technical indicators using stockstats library"
   ]
  },
  {
   "cell_type": "code",
   "execution_count": 26,
   "metadata": {
    "scrolled": true
   },
   "outputs": [
    {
     "name": "stdout",
     "output_type": "stream",
     "text": [
      "11:28:45\n"
     ]
    },
    {
     "name": "stderr",
     "output_type": "stream",
     "text": [
      "/usr/lib/python3/dist-packages/urllib3/connectionpool.py:1006: InsecureRequestWarning: Unverified HTTPS request is being made. Adding certificate verification is strongly advised. See: https://urllib3.readthedocs.io/en/latest/advanced-usage.html#ssl-warnings\n",
      "  InsecureRequestWarning,\n"
     ]
    },
    {
     "name": "stdout",
     "output_type": "stream",
     "text": [
      "11:28:50\n",
      "11:29:50\n"
     ]
    },
    {
     "name": "stderr",
     "output_type": "stream",
     "text": [
      "/usr/lib/python3/dist-packages/urllib3/connectionpool.py:1006: InsecureRequestWarning: Unverified HTTPS request is being made. Adding certificate verification is strongly advised. See: https://urllib3.readthedocs.io/en/latest/advanced-usage.html#ssl-warnings\n",
      "  InsecureRequestWarning,\n"
     ]
    },
    {
     "name": "stdout",
     "output_type": "stream",
     "text": [
      "11:29:54\n",
      "11:30:54\n"
     ]
    },
    {
     "name": "stderr",
     "output_type": "stream",
     "text": [
      "/usr/lib/python3/dist-packages/urllib3/connectionpool.py:1006: InsecureRequestWarning: Unverified HTTPS request is being made. Adding certificate verification is strongly advised. See: https://urllib3.readthedocs.io/en/latest/advanced-usage.html#ssl-warnings\n",
      "  InsecureRequestWarning,\n"
     ]
    },
    {
     "name": "stdout",
     "output_type": "stream",
     "text": [
      "11:30:57\n",
      "11:31:57\n"
     ]
    },
    {
     "name": "stderr",
     "output_type": "stream",
     "text": [
      "/usr/lib/python3/dist-packages/urllib3/connectionpool.py:1006: InsecureRequestWarning: Unverified HTTPS request is being made. Adding certificate verification is strongly advised. See: https://urllib3.readthedocs.io/en/latest/advanced-usage.html#ssl-warnings\n",
      "  InsecureRequestWarning,\n"
     ]
    },
    {
     "name": "stdout",
     "output_type": "stream",
     "text": [
      "11:32:07\n",
      "11:33:07\n"
     ]
    },
    {
     "name": "stderr",
     "output_type": "stream",
     "text": [
      "/usr/lib/python3/dist-packages/urllib3/connectionpool.py:1006: InsecureRequestWarning: Unverified HTTPS request is being made. Adding certificate verification is strongly advised. See: https://urllib3.readthedocs.io/en/latest/advanced-usage.html#ssl-warnings\n",
      "  InsecureRequestWarning,\n"
     ]
    },
    {
     "name": "stdout",
     "output_type": "stream",
     "text": [
      "11:33:10\n",
      "11:34:10\n"
     ]
    },
    {
     "name": "stderr",
     "output_type": "stream",
     "text": [
      "/usr/lib/python3/dist-packages/urllib3/connectionpool.py:1006: InsecureRequestWarning: Unverified HTTPS request is being made. Adding certificate verification is strongly advised. See: https://urllib3.readthedocs.io/en/latest/advanced-usage.html#ssl-warnings\n",
      "  InsecureRequestWarning,\n"
     ]
    },
    {
     "name": "stdout",
     "output_type": "stream",
     "text": [
      "11:34:14\n",
      "11:35:14\n"
     ]
    },
    {
     "name": "stderr",
     "output_type": "stream",
     "text": [
      "/usr/lib/python3/dist-packages/urllib3/connectionpool.py:1006: InsecureRequestWarning: Unverified HTTPS request is being made. Adding certificate verification is strongly advised. See: https://urllib3.readthedocs.io/en/latest/advanced-usage.html#ssl-warnings\n",
      "  InsecureRequestWarning,\n"
     ]
    },
    {
     "name": "stdout",
     "output_type": "stream",
     "text": [
      "11:35:21\n",
      "11:36:21\n"
     ]
    },
    {
     "name": "stderr",
     "output_type": "stream",
     "text": [
      "/usr/lib/python3/dist-packages/urllib3/connectionpool.py:1006: InsecureRequestWarning: Unverified HTTPS request is being made. Adding certificate verification is strongly advised. See: https://urllib3.readthedocs.io/en/latest/advanced-usage.html#ssl-warnings\n",
      "  InsecureRequestWarning,\n"
     ]
    },
    {
     "name": "stdout",
     "output_type": "stream",
     "text": [
      "11:36:23\n",
      "11:37:23\n"
     ]
    },
    {
     "name": "stderr",
     "output_type": "stream",
     "text": [
      "/usr/lib/python3/dist-packages/urllib3/connectionpool.py:1006: InsecureRequestWarning: Unverified HTTPS request is being made. Adding certificate verification is strongly advised. See: https://urllib3.readthedocs.io/en/latest/advanced-usage.html#ssl-warnings\n",
      "  InsecureRequestWarning,\n"
     ]
    },
    {
     "name": "stdout",
     "output_type": "stream",
     "text": [
      "11:37:30\n",
      "11:38:30\n"
     ]
    },
    {
     "name": "stderr",
     "output_type": "stream",
     "text": [
      "/usr/lib/python3/dist-packages/urllib3/connectionpool.py:1006: InsecureRequestWarning: Unverified HTTPS request is being made. Adding certificate verification is strongly advised. See: https://urllib3.readthedocs.io/en/latest/advanced-usage.html#ssl-warnings\n",
      "  InsecureRequestWarning,\n"
     ]
    },
    {
     "name": "stdout",
     "output_type": "stream",
     "text": [
      "11:38:37\n",
      "11:39:37\n"
     ]
    },
    {
     "name": "stderr",
     "output_type": "stream",
     "text": [
      "/usr/lib/python3/dist-packages/urllib3/connectionpool.py:1006: InsecureRequestWarning: Unverified HTTPS request is being made. Adding certificate verification is strongly advised. See: https://urllib3.readthedocs.io/en/latest/advanced-usage.html#ssl-warnings\n",
      "  InsecureRequestWarning,\n"
     ]
    },
    {
     "name": "stdout",
     "output_type": "stream",
     "text": [
      "11:39:41\n",
      "11:40:41\n"
     ]
    },
    {
     "name": "stderr",
     "output_type": "stream",
     "text": [
      "/usr/lib/python3/dist-packages/urllib3/connectionpool.py:1006: InsecureRequestWarning: Unverified HTTPS request is being made. Adding certificate verification is strongly advised. See: https://urllib3.readthedocs.io/en/latest/advanced-usage.html#ssl-warnings\n",
      "  InsecureRequestWarning,\n"
     ]
    },
    {
     "name": "stdout",
     "output_type": "stream",
     "text": [
      "11:41:39\n",
      "11:42:39\n"
     ]
    },
    {
     "name": "stderr",
     "output_type": "stream",
     "text": [
      "/usr/lib/python3/dist-packages/urllib3/connectionpool.py:1006: InsecureRequestWarning: Unverified HTTPS request is being made. Adding certificate verification is strongly advised. See: https://urllib3.readthedocs.io/en/latest/advanced-usage.html#ssl-warnings\n",
      "  InsecureRequestWarning,\n"
     ]
    },
    {
     "name": "stdout",
     "output_type": "stream",
     "text": [
      "11:42:48\n",
      "11:43:48\n"
     ]
    },
    {
     "name": "stderr",
     "output_type": "stream",
     "text": [
      "/usr/lib/python3/dist-packages/urllib3/connectionpool.py:1006: InsecureRequestWarning: Unverified HTTPS request is being made. Adding certificate verification is strongly advised. See: https://urllib3.readthedocs.io/en/latest/advanced-usage.html#ssl-warnings\n",
      "  InsecureRequestWarning,\n"
     ]
    },
    {
     "name": "stdout",
     "output_type": "stream",
     "text": [
      "11:44:06\n",
      "11:45:06\n"
     ]
    },
    {
     "name": "stderr",
     "output_type": "stream",
     "text": [
      "/usr/lib/python3/dist-packages/urllib3/connectionpool.py:1006: InsecureRequestWarning: Unverified HTTPS request is being made. Adding certificate verification is strongly advised. See: https://urllib3.readthedocs.io/en/latest/advanced-usage.html#ssl-warnings\n",
      "  InsecureRequestWarning,\n"
     ]
    },
    {
     "name": "stdout",
     "output_type": "stream",
     "text": [
      "11:45:10\n",
      "11:46:10\n"
     ]
    },
    {
     "name": "stderr",
     "output_type": "stream",
     "text": [
      "/usr/lib/python3/dist-packages/urllib3/connectionpool.py:1006: InsecureRequestWarning: Unverified HTTPS request is being made. Adding certificate verification is strongly advised. See: https://urllib3.readthedocs.io/en/latest/advanced-usage.html#ssl-warnings\n",
      "  InsecureRequestWarning,\n"
     ]
    },
    {
     "name": "stdout",
     "output_type": "stream",
     "text": [
      "11:46:15\n",
      "11:47:15\n"
     ]
    },
    {
     "name": "stderr",
     "output_type": "stream",
     "text": [
      "/usr/lib/python3/dist-packages/urllib3/connectionpool.py:1006: InsecureRequestWarning: Unverified HTTPS request is being made. Adding certificate verification is strongly advised. See: https://urllib3.readthedocs.io/en/latest/advanced-usage.html#ssl-warnings\n",
      "  InsecureRequestWarning,\n"
     ]
    },
    {
     "name": "stdout",
     "output_type": "stream",
     "text": [
      "11:47:21\n",
      "11:48:21\n"
     ]
    },
    {
     "name": "stderr",
     "output_type": "stream",
     "text": [
      "/usr/lib/python3/dist-packages/urllib3/connectionpool.py:1006: InsecureRequestWarning: Unverified HTTPS request is being made. Adding certificate verification is strongly advised. See: https://urllib3.readthedocs.io/en/latest/advanced-usage.html#ssl-warnings\n",
      "  InsecureRequestWarning,\n"
     ]
    },
    {
     "name": "stdout",
     "output_type": "stream",
     "text": [
      "11:48:24\n",
      "11:49:24\n"
     ]
    }
   ],
   "source": [
    "import datetime\n",
    "import time\n",
    "import requests\n",
    "from bs4 import BeautifulSoup\n",
    "\n",
    "url=\"https://www.moneycontrol.com/stocks/marketstats/indexcomp.php?optex=NSE&opttopic=indexcomp&index=9\"\n",
    "headers = {\n",
    "    'User-agent': 'Mozilla/5.0'}\n",
    "\n",
    "import ctypes\n",
    "libc = ctypes.cdll.LoadLibrary('libc.so.6')\n",
    "res_init = libc.__res_init\n",
    "res_init()\n",
    "\n",
    "open1=[]\n",
    "close1=[]\n",
    "time1=[]\n",
    "t_end = time.time() + 60 * 20\n",
    "\n",
    "print(datetime.datetime.now().strftime(\"%H:%M:%S\"))\n",
    "\n",
    "while time.time() < t_end:\n",
    "    \n",
    "    page = requests.get(url,headers=headers,verify =False)\n",
    "    soup = BeautifulSoup(page.content, 'html.parser')\n",
    "    td=soup.findAll(\"td\",{\"class\":\"brdrgtgry\"})\n",
    "    for i in range(0,len(td),6):\n",
    "        \n",
    "        #for storing the open price \n",
    "        open1.append(td[i+2].text.split('\\n')[0])\n",
    "        break\n",
    "        \n",
    "    time1.append(datetime.datetime.now().strftime(\"%H:%M:%S\"))\n",
    "        \n",
    "    print(datetime.datetime.now().strftime(\"%H:%M:%S\"))\n",
    "    \n",
    "    time.sleep(60)\n",
    "    \n",
    "    print(datetime.datetime.now().strftime(\"%H:%M:%S\"))\n",
    "    \n",
    "    page = requests.get(url,headers=headers)\n",
    "    soup = BeautifulSoup(page.content, 'html.parser')\n",
    "    td=soup.findAll(\"td\",{\"class\":\"brdrgtgry\"})\n",
    "    for i in range(0,len(td),6):\n",
    "        \n",
    "        #storing closing price after every 60 sec\n",
    "        close1.append(td[i+2].text.split('\\n')[0])\n",
    "        break\n",
    "        \n"
   ]
  },
  {
   "cell_type": "code",
   "execution_count": 27,
   "metadata": {},
   "outputs": [
    {
     "name": "stdout",
     "output_type": "stream",
     "text": [
      "            open   close\n",
      "11:28:50  239.65  239.65\n",
      "11:29:54  239.65  240.40\n",
      "11:30:57  240.40  240.70\n",
      "11:32:07  240.70  240.70\n",
      "11:33:10  240.70  240.65\n"
     ]
    }
   ],
   "source": [
    "import pandas as pd\n",
    "adani_ports_df  = pd.DataFrame({'open':open1,'close':close1},index=time1)\n",
    "adani_ports_df['open']=adani_ports_df['open'].astype(float)\n",
    "adani_ports_df['close']=adani_ports_df['close'].astype(float)\n",
    "print(adani_ports_df.head())"
   ]
  },
  {
   "cell_type": "code",
   "execution_count": 34,
   "metadata": {},
   "outputs": [],
   "source": [
    "import pandas as pd\n",
    "import pandas_datareader.data as web\n",
    "from stockstats import StockDataFrame \n",
    "\n",
    "stock = StockDataFrame.retype(adani_ports_df)"
   ]
  },
  {
   "cell_type": "code",
   "execution_count": 37,
   "metadata": {},
   "outputs": [
    {
     "data": {
      "text/html": [
       "<div>\n",
       "<style scoped>\n",
       "    .dataframe tbody tr th:only-of-type {\n",
       "        vertical-align: middle;\n",
       "    }\n",
       "\n",
       "    .dataframe tbody tr th {\n",
       "        vertical-align: top;\n",
       "    }\n",
       "\n",
       "    .dataframe thead th {\n",
       "        text-align: right;\n",
       "    }\n",
       "</style>\n",
       "<table border=\"1\" class=\"dataframe\">\n",
       "  <thead>\n",
       "    <tr style=\"text-align: right;\">\n",
       "      <th></th>\n",
       "      <th>open</th>\n",
       "      <th>close</th>\n",
       "    </tr>\n",
       "  </thead>\n",
       "  <tbody>\n",
       "    <tr>\n",
       "      <th>11:28:50</th>\n",
       "      <td>239.65</td>\n",
       "      <td>239.65</td>\n",
       "    </tr>\n",
       "    <tr>\n",
       "      <th>11:29:54</th>\n",
       "      <td>239.65</td>\n",
       "      <td>240.40</td>\n",
       "    </tr>\n",
       "    <tr>\n",
       "      <th>11:30:57</th>\n",
       "      <td>240.40</td>\n",
       "      <td>240.70</td>\n",
       "    </tr>\n",
       "    <tr>\n",
       "      <th>11:32:07</th>\n",
       "      <td>240.70</td>\n",
       "      <td>240.70</td>\n",
       "    </tr>\n",
       "    <tr>\n",
       "      <th>11:33:10</th>\n",
       "      <td>240.70</td>\n",
       "      <td>240.65</td>\n",
       "    </tr>\n",
       "  </tbody>\n",
       "</table>\n",
       "</div>"
      ],
      "text/plain": [
       "            open   close\n",
       "11:28:50  239.65  239.65\n",
       "11:29:54  239.65  240.40\n",
       "11:30:57  240.40  240.70\n",
       "11:32:07  240.70  240.70\n",
       "11:33:10  240.70  240.65"
      ]
     },
     "execution_count": 37,
     "metadata": {},
     "output_type": "execute_result"
    }
   ],
   "source": [
    "stock.head()"
   ]
  },
  {
   "cell_type": "code",
   "execution_count": 39,
   "metadata": {},
   "outputs": [
    {
     "name": "stderr",
     "output_type": "stream",
     "text": [
      "NOTE: Behavior of MACDH calculation has changed as of July 2017 - it is now 1/2 of previous calculated values\n"
     ]
    },
    {
     "data": {
      "text/plain": [
       "11:28:50    0.000000\n",
       "11:29:54    0.016827\n",
       "11:30:57    0.030744\n",
       "11:32:07    0.036320\n",
       "11:33:10    0.036596\n",
       "11:34:14    0.059592\n",
       "11:35:21    0.050662\n",
       "11:36:23   -0.003699\n",
       "11:37:30   -0.192609\n",
       "11:38:37   -0.298060\n",
       "11:39:41   -0.276848\n",
       "11:41:39   -0.271263\n",
       "11:42:48   -0.192912\n",
       "11:44:06   -0.096986\n",
       "11:45:10    0.024067\n",
       "11:46:15    0.115619\n",
       "11:47:21    0.264455\n",
       "11:48:24    0.356278\n",
       "Name: macd, dtype: float64"
      ]
     },
     "execution_count": 39,
     "metadata": {},
     "output_type": "execute_result"
    }
   ],
   "source": [
    "stock.get('macd')"
   ]
  },
  {
   "cell_type": "code",
   "execution_count": 41,
   "metadata": {},
   "outputs": [
    {
     "data": {
      "text/plain": [
       "11:28:50   -0.75\n",
       "11:29:54   -1.05\n",
       "11:30:57   -0.30\n",
       "11:32:07    0.05\n",
       "11:33:10   -0.50\n",
       "11:34:14   -0.05\n",
       "11:35:21    1.50\n",
       "11:36:23    4.05\n",
       "11:37:30    2.55\n",
       "11:38:37   -2.25\n",
       "11:39:41   -1.50\n",
       "11:41:39   -1.00\n",
       "11:42:48   -1.85\n",
       "11:44:06   -1.40\n",
       "11:45:10   -0.80\n",
       "11:46:15   -1.30\n",
       "11:47:21     NaN\n",
       "11:48:24     NaN\n",
       "Name: open_2_d, dtype: float64"
      ]
     },
     "execution_count": 41,
     "metadata": {},
     "output_type": "execute_result"
    }
   ],
   "source": [
    "stock['open_2_d']"
   ]
  },
  {
   "cell_type": "code",
   "execution_count": 42,
   "metadata": {},
   "outputs": [
    {
     "data": {
      "text/plain": [
       "11:28:50         NaN\n",
       "11:29:54         NaN\n",
       "11:30:57    0.312956\n",
       "11:32:07    0.438139\n",
       "11:33:10    0.124792\n",
       "11:34:14   -0.020773\n",
       "11:35:21    0.207727\n",
       "11:36:23    0.020777\n",
       "11:37:30   -0.621891\n",
       "11:38:37   -1.682592\n",
       "11:39:41   -1.063830\n",
       "11:41:39    0.950771\n",
       "11:42:48    0.632511\n",
       "11:44:06    0.418585\n",
       "11:45:10    0.775194\n",
       "11:46:15    0.583576\n",
       "11:47:21    0.332640\n",
       "11:48:24    0.538748\n",
       "Name: open_-2_r, dtype: float64"
      ]
     },
     "execution_count": 42,
     "metadata": {},
     "output_type": "execute_result"
    }
   ],
   "source": [
    "stock['open_-2_r']"
   ]
  },
  {
   "cell_type": "markdown",
   "metadata": {},
   "source": [
    "### 2 days simple moving average on open price"
   ]
  },
  {
   "cell_type": "code",
   "execution_count": 47,
   "metadata": {},
   "outputs": [
    {
     "data": {
      "text/plain": [
       "11:28:50    239.650\n",
       "11:29:54    239.650\n",
       "11:30:57    240.025\n",
       "11:32:07    240.550\n",
       "11:33:10    240.700\n",
       "11:34:14    240.675\n",
       "11:35:21    240.925\n",
       "11:36:23    240.950\n",
       "11:37:30    240.200\n",
       "11:38:37    238.175\n",
       "11:39:41    236.900\n",
       "11:41:39    238.025\n",
       "11:42:48    238.775\n",
       "11:44:06    239.275\n",
       "11:45:10    240.200\n",
       "11:46:15    240.900\n",
       "11:47:21    241.300\n",
       "11:48:24    241.950\n",
       "Name: open_2_sma, dtype: float64"
      ]
     },
     "execution_count": 47,
     "metadata": {},
     "output_type": "execute_result"
    }
   ],
   "source": [
    "stock['open_2_sma']"
   ]
  },
  {
   "cell_type": "code",
   "execution_count": 49,
   "metadata": {},
   "outputs": [
    {
     "data": {
      "text/plain": [
       "11:28:50    0.000000\n",
       "11:29:54    0.016827\n",
       "11:30:57    0.030744\n",
       "11:32:07    0.036320\n",
       "11:33:10    0.036596\n",
       "11:34:14    0.059592\n",
       "11:35:21    0.050662\n",
       "11:36:23   -0.003699\n",
       "11:37:30   -0.192609\n",
       "11:38:37   -0.298060\n",
       "11:39:41   -0.276848\n",
       "11:41:39   -0.271263\n",
       "11:42:48   -0.192912\n",
       "11:44:06   -0.096986\n",
       "11:45:10    0.024067\n",
       "11:46:15    0.115619\n",
       "11:47:21    0.264455\n",
       "11:48:24    0.356278\n",
       "Name: macd, dtype: float64"
      ]
     },
     "execution_count": 49,
     "metadata": {},
     "output_type": "execute_result"
    }
   ],
   "source": [
    "# MACD\n",
    "stock['macd']"
   ]
  },
  {
   "cell_type": "markdown",
   "metadata": {},
   "source": [
    "### bolling"
   ]
  },
  {
   "cell_type": "code",
   "execution_count": 51,
   "metadata": {},
   "outputs": [
    {
     "data": {
      "text/plain": [
       "11:28:50    239.650000\n",
       "11:29:54    240.025000\n",
       "11:30:57    240.250000\n",
       "11:32:07    240.362500\n",
       "11:33:10    240.420000\n",
       "11:34:14    240.550000\n",
       "11:35:21    240.571429\n",
       "11:36:23    240.462500\n",
       "11:37:30    240.038889\n",
       "11:38:37    239.750000\n",
       "11:39:41    239.672727\n",
       "11:41:39    239.587500\n",
       "11:42:48    239.611538\n",
       "11:44:06    239.675000\n",
       "11:45:10    239.783333\n",
       "11:46:15    239.878125\n",
       "11:47:21    240.038235\n",
       "11:48:24    240.163889\n",
       "Name: boll, dtype: float64"
      ]
     },
     "execution_count": 51,
     "metadata": {},
     "output_type": "execute_result"
    }
   ],
   "source": [
    "stock['boll']"
   ]
  },
  {
   "cell_type": "code",
   "execution_count": 53,
   "metadata": {},
   "outputs": [
    {
     "name": "stderr",
     "output_type": "stream",
     "text": [
      "/usr/local/lib/python3.7/dist-packages/stockstats.py:215: FutureWarning: Currently, 'apply' passes the values as ndarrays to the applied function. In the future, this will change to passing it as Series objects. You need to specify 'raw=True' to keep the current behaviour, and you can pass 'raw=False' to silence this warning\n",
      "  min_periods=0).apply(np.count_nonzero)\n"
     ]
    },
    {
     "data": {
      "text/plain": [
       "11:28:50    0.0\n",
       "11:29:54    0.0\n",
       "11:30:57    0.0\n",
       "11:32:07    0.0\n",
       "11:33:10    0.0\n",
       "11:34:14    0.0\n",
       "11:35:21    0.0\n",
       "11:36:23    0.0\n",
       "11:37:30    0.0\n",
       "11:38:37    0.0\n",
       "11:39:41    0.0\n",
       "11:41:39    0.0\n",
       "11:42:48    0.0\n",
       "11:44:06    0.0\n",
       "11:45:10    0.0\n",
       "11:46:15    0.0\n",
       "11:47:21    0.0\n",
       "11:48:24    0.0\n",
       "Name: close_10.0_le_5_c, dtype: float64"
      ]
     },
     "execution_count": 53,
     "metadata": {},
     "output_type": "execute_result"
    }
   ],
   "source": [
    "#close price less than 10.0 in 5 days count\n",
    "stock['close_10.0_le_5_c']"
   ]
  },
  {
   "cell_type": "code",
   "execution_count": 54,
   "metadata": {},
   "outputs": [
    {
     "name": "stderr",
     "output_type": "stream",
     "text": [
      "/usr/local/lib/python3.7/dist-packages/pandas/core/indexing.py:205: SettingWithCopyWarning: \n",
      "A value is trying to be set on a copy of a slice from a DataFrame\n",
      "\n",
      "See the caveats in the documentation: http://pandas.pydata.org/pandas-docs/stable/user_guide/indexing.html#returning-a-view-versus-a-copy\n",
      "  self._setitem_with_indexer(indexer, value)\n"
     ]
    },
    {
     "data": {
      "text/plain": [
       "11:28:50           NaN\n",
       "11:29:54    100.000000\n",
       "11:30:57    100.000000\n",
       "11:32:07    100.000000\n",
       "11:33:10     92.778335\n",
       "11:34:14     96.302763\n",
       "11:35:21     62.844313\n",
       "11:36:23     34.269404\n",
       "11:37:30     12.863028\n",
       "11:38:37     22.398811\n",
       "11:39:41     46.834829\n",
       "11:41:39     44.436100\n",
       "11:42:48     57.497230\n",
       "11:44:06     62.565734\n",
       "11:45:10     68.563816\n",
       "11:46:15     68.563816\n",
       "11:47:21     77.136282\n",
       "11:48:24     71.720300\n",
       "Name: rsi_6, dtype: float64"
      ]
     },
     "execution_count": 54,
     "metadata": {},
     "output_type": "execute_result"
    }
   ],
   "source": [
    "# 6 days RSI\n",
    "stock['rsi_6']"
   ]
  },
  {
   "cell_type": "code",
   "execution_count": 56,
   "metadata": {},
   "outputs": [
    {
     "data": {
      "text/plain": [
       "11:28:50    0.000000\n",
       "11:29:54    0.000000\n",
       "11:30:57    0.000000\n",
       "11:32:07    0.000000\n",
       "11:33:10    0.000000\n",
       "11:34:14    0.000000\n",
       "11:35:21    0.000000\n",
       "11:36:23    0.000000\n",
       "11:37:30    0.000000\n",
       "11:38:37    0.000000\n",
       "11:39:41    0.002273\n",
       "11:41:39   -0.087500\n",
       "11:42:48   -0.191538\n",
       "11:44:06   -0.275000\n",
       "11:45:10   -0.318333\n",
       "11:46:15   -0.403125\n",
       "11:47:21   -0.373235\n",
       "11:48:24   -0.238889\n",
       "Name: dma, dtype: float64"
      ]
     },
     "execution_count": 56,
     "metadata": {},
     "output_type": "execute_result"
    }
   ],
   "source": [
    "# DMA, difference of 10 and 50 moving average\n",
    "stock['dma']"
   ]
  },
  {
   "cell_type": "code",
   "execution_count": null,
   "metadata": {},
   "outputs": [],
   "source": []
  }
 ],
 "metadata": {
  "kernelspec": {
   "display_name": "Python 3",
   "language": "python",
   "name": "python3"
  },
  "language_info": {
   "codemirror_mode": {
    "name": "ipython",
    "version": 3
   },
   "file_extension": ".py",
   "mimetype": "text/x-python",
   "name": "python",
   "nbconvert_exporter": "python",
   "pygments_lexer": "ipython3",
   "version": "3.7.6"
  }
 },
 "nbformat": 4,
 "nbformat_minor": 4
}
